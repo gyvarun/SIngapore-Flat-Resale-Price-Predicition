{
 "cells": [
  {
   "cell_type": "code",
   "execution_count": 1,
   "id": "8f1dc855-2a7d-4029-9510-2224f39ae062",
   "metadata": {},
   "outputs": [],
   "source": [
    "import pandas as pd\n",
    "import numpy as np\n",
    "from datetime import date\n",
    "import seaborn as sns\n",
    "import matplotlib.pyplot as plt\n",
    "from imblearn.combine import SMOTEENN"
   ]
  },
  {
   "cell_type": "code",
   "execution_count": 2,
   "id": "a957e45c-7521-4d2a-bd10-0d8d45009649",
   "metadata": {},
   "outputs": [
    {
     "data": {
      "text/html": [
       "<div>\n",
       "<style scoped>\n",
       "    .dataframe tbody tr th:only-of-type {\n",
       "        vertical-align: middle;\n",
       "    }\n",
       "\n",
       "    .dataframe tbody tr th {\n",
       "        vertical-align: top;\n",
       "    }\n",
       "\n",
       "    .dataframe thead th {\n",
       "        text-align: right;\n",
       "    }\n",
       "</style>\n",
       "<table border=\"1\" class=\"dataframe\">\n",
       "  <thead>\n",
       "    <tr style=\"text-align: right;\">\n",
       "      <th></th>\n",
       "      <th>month</th>\n",
       "      <th>town</th>\n",
       "      <th>flat_type</th>\n",
       "      <th>block</th>\n",
       "      <th>street_name</th>\n",
       "      <th>storey_range</th>\n",
       "      <th>floor_area_sqm</th>\n",
       "      <th>flat_model</th>\n",
       "      <th>lease_commence_date</th>\n",
       "      <th>resale_price</th>\n",
       "      <th>remaining_lease</th>\n",
       "    </tr>\n",
       "  </thead>\n",
       "  <tbody>\n",
       "    <tr>\n",
       "      <th>0</th>\n",
       "      <td>1990-01</td>\n",
       "      <td>ANG MO KIO</td>\n",
       "      <td>1 ROOM</td>\n",
       "      <td>309</td>\n",
       "      <td>ANG MO KIO AVE 1</td>\n",
       "      <td>10 TO 12</td>\n",
       "      <td>31.0</td>\n",
       "      <td>IMPROVED</td>\n",
       "      <td>1977</td>\n",
       "      <td>9000.0</td>\n",
       "      <td>NaN</td>\n",
       "    </tr>\n",
       "    <tr>\n",
       "      <th>1</th>\n",
       "      <td>1990-01</td>\n",
       "      <td>ANG MO KIO</td>\n",
       "      <td>1 ROOM</td>\n",
       "      <td>309</td>\n",
       "      <td>ANG MO KIO AVE 1</td>\n",
       "      <td>04 TO 06</td>\n",
       "      <td>31.0</td>\n",
       "      <td>IMPROVED</td>\n",
       "      <td>1977</td>\n",
       "      <td>6000.0</td>\n",
       "      <td>NaN</td>\n",
       "    </tr>\n",
       "    <tr>\n",
       "      <th>2</th>\n",
       "      <td>1990-01</td>\n",
       "      <td>ANG MO KIO</td>\n",
       "      <td>1 ROOM</td>\n",
       "      <td>309</td>\n",
       "      <td>ANG MO KIO AVE 1</td>\n",
       "      <td>10 TO 12</td>\n",
       "      <td>31.0</td>\n",
       "      <td>IMPROVED</td>\n",
       "      <td>1977</td>\n",
       "      <td>8000.0</td>\n",
       "      <td>NaN</td>\n",
       "    </tr>\n",
       "    <tr>\n",
       "      <th>3</th>\n",
       "      <td>1990-01</td>\n",
       "      <td>ANG MO KIO</td>\n",
       "      <td>1 ROOM</td>\n",
       "      <td>309</td>\n",
       "      <td>ANG MO KIO AVE 1</td>\n",
       "      <td>07 TO 09</td>\n",
       "      <td>31.0</td>\n",
       "      <td>IMPROVED</td>\n",
       "      <td>1977</td>\n",
       "      <td>6000.0</td>\n",
       "      <td>NaN</td>\n",
       "    </tr>\n",
       "    <tr>\n",
       "      <th>4</th>\n",
       "      <td>1990-01</td>\n",
       "      <td>ANG MO KIO</td>\n",
       "      <td>3 ROOM</td>\n",
       "      <td>216</td>\n",
       "      <td>ANG MO KIO AVE 1</td>\n",
       "      <td>04 TO 06</td>\n",
       "      <td>73.0</td>\n",
       "      <td>NEW GENERATION</td>\n",
       "      <td>1976</td>\n",
       "      <td>47200.0</td>\n",
       "      <td>NaN</td>\n",
       "    </tr>\n",
       "    <tr>\n",
       "      <th>...</th>\n",
       "      <td>...</td>\n",
       "      <td>...</td>\n",
       "      <td>...</td>\n",
       "      <td>...</td>\n",
       "      <td>...</td>\n",
       "      <td>...</td>\n",
       "      <td>...</td>\n",
       "      <td>...</td>\n",
       "      <td>...</td>\n",
       "      <td>...</td>\n",
       "      <td>...</td>\n",
       "    </tr>\n",
       "    <tr>\n",
       "      <th>930268</th>\n",
       "      <td>2024-07</td>\n",
       "      <td>YISHUN</td>\n",
       "      <td>EXECUTIVE</td>\n",
       "      <td>406</td>\n",
       "      <td>YISHUN AVE 6</td>\n",
       "      <td>10 TO 12</td>\n",
       "      <td>142.0</td>\n",
       "      <td>Apartment</td>\n",
       "      <td>1988</td>\n",
       "      <td>838000.0</td>\n",
       "      <td>63 years 03 months</td>\n",
       "    </tr>\n",
       "    <tr>\n",
       "      <th>930269</th>\n",
       "      <td>2024-07</td>\n",
       "      <td>YISHUN</td>\n",
       "      <td>EXECUTIVE</td>\n",
       "      <td>792</td>\n",
       "      <td>YISHUN RING RD</td>\n",
       "      <td>07 TO 09</td>\n",
       "      <td>147.0</td>\n",
       "      <td>Apartment</td>\n",
       "      <td>1987</td>\n",
       "      <td>820000.0</td>\n",
       "      <td>62 years 03 months</td>\n",
       "    </tr>\n",
       "    <tr>\n",
       "      <th>930270</th>\n",
       "      <td>2024-07</td>\n",
       "      <td>YISHUN</td>\n",
       "      <td>EXECUTIVE</td>\n",
       "      <td>352</td>\n",
       "      <td>YISHUN RING RD</td>\n",
       "      <td>04 TO 06</td>\n",
       "      <td>146.0</td>\n",
       "      <td>Maisonette</td>\n",
       "      <td>1988</td>\n",
       "      <td>865000.0</td>\n",
       "      <td>63 years 01 month</td>\n",
       "    </tr>\n",
       "    <tr>\n",
       "      <th>930271</th>\n",
       "      <td>2024-07</td>\n",
       "      <td>YISHUN</td>\n",
       "      <td>EXECUTIVE</td>\n",
       "      <td>277</td>\n",
       "      <td>YISHUN ST 22</td>\n",
       "      <td>01 TO 03</td>\n",
       "      <td>146.0</td>\n",
       "      <td>Maisonette</td>\n",
       "      <td>1985</td>\n",
       "      <td>770000.0</td>\n",
       "      <td>60 years 03 months</td>\n",
       "    </tr>\n",
       "    <tr>\n",
       "      <th>930272</th>\n",
       "      <td>2024-07</td>\n",
       "      <td>YISHUN</td>\n",
       "      <td>EXECUTIVE</td>\n",
       "      <td>277</td>\n",
       "      <td>YISHUN ST 22</td>\n",
       "      <td>04 TO 06</td>\n",
       "      <td>146.0</td>\n",
       "      <td>Maisonette</td>\n",
       "      <td>1985</td>\n",
       "      <td>800000.0</td>\n",
       "      <td>60 years 02 months</td>\n",
       "    </tr>\n",
       "  </tbody>\n",
       "</table>\n",
       "<p>930273 rows × 11 columns</p>\n",
       "</div>"
      ],
      "text/plain": [
       "          month        town  flat_type block       street_name storey_range  \\\n",
       "0       1990-01  ANG MO KIO     1 ROOM   309  ANG MO KIO AVE 1     10 TO 12   \n",
       "1       1990-01  ANG MO KIO     1 ROOM   309  ANG MO KIO AVE 1     04 TO 06   \n",
       "2       1990-01  ANG MO KIO     1 ROOM   309  ANG MO KIO AVE 1     10 TO 12   \n",
       "3       1990-01  ANG MO KIO     1 ROOM   309  ANG MO KIO AVE 1     07 TO 09   \n",
       "4       1990-01  ANG MO KIO     3 ROOM   216  ANG MO KIO AVE 1     04 TO 06   \n",
       "...         ...         ...        ...   ...               ...          ...   \n",
       "930268  2024-07      YISHUN  EXECUTIVE   406      YISHUN AVE 6     10 TO 12   \n",
       "930269  2024-07      YISHUN  EXECUTIVE   792    YISHUN RING RD     07 TO 09   \n",
       "930270  2024-07      YISHUN  EXECUTIVE   352    YISHUN RING RD     04 TO 06   \n",
       "930271  2024-07      YISHUN  EXECUTIVE   277      YISHUN ST 22     01 TO 03   \n",
       "930272  2024-07      YISHUN  EXECUTIVE   277      YISHUN ST 22     04 TO 06   \n",
       "\n",
       "        floor_area_sqm      flat_model  lease_commence_date  resale_price  \\\n",
       "0                 31.0        IMPROVED                 1977        9000.0   \n",
       "1                 31.0        IMPROVED                 1977        6000.0   \n",
       "2                 31.0        IMPROVED                 1977        8000.0   \n",
       "3                 31.0        IMPROVED                 1977        6000.0   \n",
       "4                 73.0  NEW GENERATION                 1976       47200.0   \n",
       "...                ...             ...                  ...           ...   \n",
       "930268           142.0       Apartment                 1988      838000.0   \n",
       "930269           147.0       Apartment                 1987      820000.0   \n",
       "930270           146.0      Maisonette                 1988      865000.0   \n",
       "930271           146.0      Maisonette                 1985      770000.0   \n",
       "930272           146.0      Maisonette                 1985      800000.0   \n",
       "\n",
       "           remaining_lease  \n",
       "0                      NaN  \n",
       "1                      NaN  \n",
       "2                      NaN  \n",
       "3                      NaN  \n",
       "4                      NaN  \n",
       "...                    ...  \n",
       "930268  63 years 03 months  \n",
       "930269  62 years 03 months  \n",
       "930270   63 years 01 month  \n",
       "930271  60 years 03 months  \n",
       "930272  60 years 02 months  \n",
       "\n",
       "[930273 rows x 11 columns]"
      ]
     },
     "execution_count": 2,
     "metadata": {},
     "output_type": "execute_result"
    }
   ],
   "source": [
    "import glob\n",
    "import os\n",
    "\n",
    "folder_path = r\"C:\\Users\\91916\\Desktop\\VARUN\\python_guvi\\guvi\\Datasets\\Flat_resale_data\"\n",
    "csv_files = glob.glob(os.path.join(folder_path, '*.csv'))\n",
    "\n",
    "dfs = [pd.read_csv(file) for file in csv_files]\n",
    "combined_data = pd.concat(dfs, ignore_index=True)\n",
    "\n",
    "# Process the combined_data dataframe as needed\n",
    "combined_data"
   ]
  },
  {
   "cell_type": "code",
   "execution_count": 3,
   "id": "bce11580-136c-4340-8dcb-3e55562d9c2d",
   "metadata": {},
   "outputs": [],
   "source": [
    "df = combined_data.copy()"
   ]
  },
  {
   "cell_type": "code",
   "execution_count": 4,
   "id": "eba937d2-aa24-4bff-975b-3ccfb90bc263",
   "metadata": {},
   "outputs": [
    {
     "name": "stdout",
     "output_type": "stream",
     "text": [
      "<class 'pandas.core.frame.DataFrame'>\n",
      "RangeIndex: 930273 entries, 0 to 930272\n",
      "Data columns (total 11 columns):\n",
      " #   Column               Non-Null Count   Dtype  \n",
      "---  ------               --------------   -----  \n",
      " 0   month                930273 non-null  object \n",
      " 1   town                 930273 non-null  object \n",
      " 2   flat_type            930273 non-null  object \n",
      " 3   block                930273 non-null  object \n",
      " 4   street_name          930273 non-null  object \n",
      " 5   storey_range         930273 non-null  object \n",
      " 6   floor_area_sqm       930273 non-null  float64\n",
      " 7   flat_model           930273 non-null  object \n",
      " 8   lease_commence_date  930273 non-null  int64  \n",
      " 9   resale_price         930273 non-null  float64\n",
      " 10  remaining_lease      221223 non-null  object \n",
      "dtypes: float64(2), int64(1), object(8)\n",
      "memory usage: 78.1+ MB\n"
     ]
    }
   ],
   "source": [
    "df.info()"
   ]
  },
  {
   "cell_type": "code",
   "execution_count": 5,
   "id": "33d50424-5131-44f1-b1cd-eda8d80e41f7",
   "metadata": {},
   "outputs": [
    {
     "data": {
      "text/plain": [
       "month                       0\n",
       "town                        0\n",
       "flat_type                   0\n",
       "block                       0\n",
       "street_name                 0\n",
       "storey_range                0\n",
       "floor_area_sqm              0\n",
       "flat_model                  0\n",
       "lease_commence_date         0\n",
       "resale_price                0\n",
       "remaining_lease        709050\n",
       "dtype: int64"
      ]
     },
     "execution_count": 5,
     "metadata": {},
     "output_type": "execute_result"
    }
   ],
   "source": [
    "df.isnull().sum()"
   ]
  },
  {
   "cell_type": "code",
   "execution_count": 6,
   "id": "b8e74dca-801a-4e26-9006-7b6720b6303f",
   "metadata": {},
   "outputs": [
    {
     "data": {
      "text/plain": [
       "array(['ANG MO KIO', 'BEDOK', 'BISHAN', 'BUKIT BATOK', 'BUKIT MERAH',\n",
       "       'BUKIT TIMAH', 'CENTRAL AREA', 'CHOA CHU KANG', 'CLEMENTI',\n",
       "       'GEYLANG', 'HOUGANG', 'JURONG EAST', 'JURONG WEST',\n",
       "       'KALLANG/WHAMPOA', 'MARINE PARADE', 'QUEENSTOWN', 'SENGKANG',\n",
       "       'SERANGOON', 'TAMPINES', 'TOA PAYOH', 'WOODLANDS', 'YISHUN',\n",
       "       'LIM CHU KANG', 'SEMBAWANG', 'BUKIT PANJANG', 'PASIR RIS',\n",
       "       'PUNGGOL'], dtype=object)"
      ]
     },
     "execution_count": 6,
     "metadata": {},
     "output_type": "execute_result"
    }
   ],
   "source": [
    "df['town'].unique()"
   ]
  },
  {
   "cell_type": "code",
   "execution_count": 7,
   "id": "5ef92eae-1538-4c76-bd56-2c568392ac2b",
   "metadata": {},
   "outputs": [
    {
     "data": {
      "text/plain": [
       "array(['1 ROOM', '3 ROOM', '4 ROOM', '5 ROOM', '2 ROOM', 'EXECUTIVE',\n",
       "       'MULTI GENERATION', 'MULTI-GENERATION'], dtype=object)"
      ]
     },
     "execution_count": 7,
     "metadata": {},
     "output_type": "execute_result"
    }
   ],
   "source": [
    "df['flat_type'].unique()"
   ]
  },
  {
   "cell_type": "code",
   "execution_count": 8,
   "id": "379fed90-f010-491f-b1bb-c796affdfb34",
   "metadata": {},
   "outputs": [
    {
     "data": {
      "text/plain": [
       "array(['309', '216', '211', ..., '240A', '460D', '83A'], dtype=object)"
      ]
     },
     "execution_count": 8,
     "metadata": {},
     "output_type": "execute_result"
    }
   ],
   "source": [
    "df['block'].unique()"
   ]
  },
  {
   "cell_type": "code",
   "execution_count": 9,
   "id": "01051626-f8fe-4b97-8462-b3a8e9c80a9f",
   "metadata": {},
   "outputs": [
    {
     "data": {
      "text/plain": [
       "array(['ANG MO KIO AVE 1', 'ANG MO KIO AVE 3', 'ANG MO KIO AVE 4',\n",
       "       'ANG MO KIO AVE 10', 'ANG MO KIO AVE 5', 'ANG MO KIO AVE 8',\n",
       "       'ANG MO KIO AVE 6', 'ANG MO KIO AVE 9', 'ANG MO KIO AVE 2',\n",
       "       'BEDOK RESERVOIR RD', 'BEDOK NTH ST 3', 'BEDOK STH RD',\n",
       "       'NEW UPP CHANGI RD', 'BEDOK NTH RD', 'BEDOK STH AVE 1',\n",
       "       'CHAI CHEE RD', 'CHAI CHEE DR', 'BEDOK NTH AVE 4',\n",
       "       'BEDOK STH AVE 3', 'BEDOK STH AVE 2', 'BEDOK NTH ST 2',\n",
       "       'BEDOK NTH ST 4', 'BEDOK NTH AVE 2', 'BEDOK NTH AVE 3',\n",
       "       'BEDOK NTH AVE 1', 'BEDOK NTH ST 1', 'CHAI CHEE ST', 'SIN MING RD',\n",
       "       'SHUNFU RD', 'BT BATOK ST 11', 'BT BATOK WEST AVE 8',\n",
       "       'BT BATOK WEST AVE 6', 'BT BATOK ST 21', 'BT BATOK EAST AVE 5',\n",
       "       'BT BATOK EAST AVE 4', 'HILLVIEW AVE', 'BT BATOK CTRL',\n",
       "       'BT BATOK ST 31', 'BT BATOK EAST AVE 3', 'TAMAN HO SWEE',\n",
       "       'TELOK BLANGAH CRES', 'BEO CRES', 'TELOK BLANGAH DR', 'DEPOT RD',\n",
       "       'TELOK BLANGAH RISE', 'JLN BT MERAH', 'HENDERSON RD', 'INDUS RD',\n",
       "       'BT MERAH VIEW', 'HENDERSON CRES', 'BT PURMEI RD',\n",
       "       'TELOK BLANGAH HTS', 'EVERTON PK', 'KG BAHRU HILL', 'REDHILL CL',\n",
       "       'HOY FATT RD', 'HAVELOCK RD', 'JLN KLINIK', 'JLN RUMAH TINGGI',\n",
       "       'JLN BT HO SWEE', 'KIM CHENG ST', 'MOH GUAN TER',\n",
       "       'TELOK BLANGAH WAY', 'KIM TIAN RD', 'KIM TIAN PL', 'EMPRESS RD',\n",
       "       \"QUEEN'S RD\", 'FARRER RD', 'JLN KUKOH', 'OUTRAM PK', 'SHORT ST',\n",
       "       'SELEGIE RD', 'UPP CROSS ST', 'WATERLOO ST', 'QUEEN ST',\n",
       "       'BUFFALO RD', 'ROWELL RD', 'ROCHOR RD', 'BAIN ST', 'SMITH ST',\n",
       "       'VEERASAMY RD', 'TECK WHYE AVE', 'TECK WHYE LANE',\n",
       "       'CLEMENTI AVE 3', 'WEST COAST DR', 'CLEMENTI AVE 2',\n",
       "       'CLEMENTI AVE 5', 'CLEMENTI AVE 4', 'CLEMENTI AVE 1',\n",
       "       'WEST COAST RD', 'CLEMENTI WEST ST 1', 'CLEMENTI WEST ST 2',\n",
       "       'CLEMENTI ST 13', \"C'WEALTH AVE WEST\", 'CLEMENTI AVE 6',\n",
       "       'CLEMENTI ST 14', 'CIRCUIT RD', 'MACPHERSON LANE',\n",
       "       'JLN PASAR BARU', 'GEYLANG SERAI', 'EUNOS CRES', 'SIMS DR',\n",
       "       'ALJUNIED CRES', 'GEYLANG EAST AVE 1', 'DAKOTA CRES', 'PINE CL',\n",
       "       'HAIG RD', 'BALAM RD', 'JLN DUA', 'GEYLANG EAST CTRL',\n",
       "       'EUNOS RD 5', 'HOUGANG AVE 3', 'HOUGANG AVE 5', 'HOUGANG AVE 1',\n",
       "       'HOUGANG ST 22', 'HOUGANG AVE 10', 'LOR AH SOO', 'HOUGANG ST 11',\n",
       "       'HOUGANG AVE 7', 'HOUGANG ST 21', 'TEBAN GDNS RD',\n",
       "       'JURONG EAST AVE 1', 'JURONG EAST ST 32', 'JURONG EAST ST 13',\n",
       "       'JURONG EAST ST 21', 'JURONG EAST ST 24', 'JURONG EAST ST 31',\n",
       "       'PANDAN GDNS', 'YUNG KUANG RD', 'HO CHING RD', 'HU CHING RD',\n",
       "       'BOON LAY DR', 'BOON LAY AVE', 'BOON LAY PL', 'JURONG WEST ST 52',\n",
       "       'JURONG WEST ST 41', 'JURONG WEST AVE 1', 'JURONG WEST ST 42',\n",
       "       'JLN BATU', \"ST. GEORGE'S RD\", 'NTH BRIDGE RD', 'FRENCH RD',\n",
       "       'BEACH RD', 'WHAMPOA DR', 'UPP BOON KENG RD', 'BENDEMEER RD',\n",
       "       'WHAMPOA WEST', 'LOR LIMAU', 'KALLANG BAHRU', 'GEYLANG BAHRU',\n",
       "       'DORSET RD', 'OWEN RD', 'KG ARANG RD', 'JLN BAHAGIA',\n",
       "       'MOULMEIN RD', 'TOWNER RD', 'JLN RAJAH', 'KENT RD', 'AH HOOD RD',\n",
       "       \"KING GEORGE'S AVE\", 'CRAWFORD LANE', 'MARINE CRES', 'MARINE DR',\n",
       "       'MARINE TER', \"C'WEALTH CL\", \"C'WEALTH DR\", 'TANGLIN HALT RD',\n",
       "       \"C'WEALTH CRES\", 'DOVER RD', 'MARGARET DR', 'GHIM MOH RD',\n",
       "       'DOVER CRES', 'STIRLING RD', 'MEI LING ST', 'HOLLAND CL',\n",
       "       'HOLLAND AVE', 'HOLLAND DR', 'DOVER CL EAST',\n",
       "       'SELETAR WEST FARMWAY 6', 'LOR LEW LIAN', 'SERANGOON NTH AVE 1',\n",
       "       'SERANGOON AVE 2', 'SERANGOON AVE 4', 'SERANGOON CTRL',\n",
       "       'TAMPINES ST 11', 'TAMPINES ST 21', 'TAMPINES ST 91',\n",
       "       'TAMPINES ST 81', 'TAMPINES AVE 4', 'TAMPINES ST 22',\n",
       "       'TAMPINES ST 12', 'TAMPINES ST 23', 'TAMPINES ST 24',\n",
       "       'TAMPINES ST 41', 'TAMPINES ST 82', 'TAMPINES ST 83',\n",
       "       'TAMPINES AVE 5', 'LOR 2 TOA PAYOH', 'LOR 8 TOA PAYOH',\n",
       "       'LOR 1 TOA PAYOH', 'LOR 5 TOA PAYOH', 'LOR 3 TOA PAYOH',\n",
       "       'LOR 7 TOA PAYOH', 'TOA PAYOH EAST', 'LOR 4 TOA PAYOH',\n",
       "       'TOA PAYOH CTRL', 'TOA PAYOH NTH', 'POTONG PASIR AVE 3',\n",
       "       'POTONG PASIR AVE 1', 'UPP ALJUNIED LANE', 'JOO SENG RD',\n",
       "       'MARSILING LANE', 'MARSILING DR', 'MARSILING RISE',\n",
       "       'MARSILING CRES', 'WOODLANDS CTR RD', 'WOODLANDS ST 13',\n",
       "       'WOODLANDS ST 11', 'YISHUN RING RD', 'YISHUN AVE 5',\n",
       "       'YISHUN ST 72', 'YISHUN ST 11', 'YISHUN ST 21', 'YISHUN ST 22',\n",
       "       'YISHUN AVE 3', 'CHAI CHEE AVE', 'ZION RD', 'LENGKOK BAHRU',\n",
       "       'SPOTTISWOODE PK RD', 'NEW MKT RD', 'TG PAGAR PLAZA',\n",
       "       'KELANTAN RD', 'PAYA LEBAR WAY', 'UBI AVE 1', 'SIMS AVE',\n",
       "       'YUNG PING RD', 'TAO CHING RD', 'GLOUCESTER RD', 'BOON KENG RD',\n",
       "       'WHAMPOA STH', 'CAMBRIDGE RD', 'TAMPINES ST 42', 'LOR 6 TOA PAYOH',\n",
       "       'KIM KEAT AVE', 'YISHUN AVE 6', 'YISHUN AVE 9', 'YISHUN ST 71',\n",
       "       'BT BATOK ST 32', 'SILAT AVE', 'TIONG BAHRU RD', 'SAGO LANE',\n",
       "       \"ST. GEORGE'S LANE\", 'LIM CHU KANG RD', \"C'WEALTH AVE\",\n",
       "       \"QUEEN'S CL\", 'SERANGOON AVE 3', 'POTONG PASIR AVE 2',\n",
       "       'WOODLANDS AVE 1', 'YISHUN AVE 4', 'LOWER DELTA RD', 'NILE RD',\n",
       "       'JLN MEMBINA BARAT', 'JLN BERSEH', 'CHANDER RD', 'CASSIA CRES',\n",
       "       'OLD AIRPORT RD', 'ALJUNIED RD', 'BUANGKOK STH FARMWAY 1',\n",
       "       'BT BATOK ST 33', 'ALEXANDRA RD', 'CHIN SWEE RD', 'SIMS PL',\n",
       "       'HOUGANG AVE 2', 'HOUGANG AVE 8', 'SEMBAWANG RD', 'SIMEI ST 1',\n",
       "       'BT BATOK ST 34', 'BT MERAH CTRL', 'LIM LIAK ST', 'JLN TENTERAM',\n",
       "       'WOODLANDS ST 32', 'SIN MING AVE', 'BT BATOK ST 52', 'DELTA AVE',\n",
       "       'PIPIT RD', 'HOUGANG AVE 4', 'QUEENSWAY', 'YISHUN ST 61',\n",
       "       'BISHAN ST 12', \"JLN MA'MOR\", 'TAMPINES ST 44', 'TAMPINES ST 43',\n",
       "       'BISHAN ST 13', 'JLN DUSUN', 'YISHUN AVE 2', 'JOO CHIAT RD',\n",
       "       'EAST COAST RD', 'REDHILL RD', 'KIM PONG RD', 'RACE COURSE RD',\n",
       "       'KRETA AYER RD', 'HOUGANG ST 61', 'TESSENSOHN RD', 'MARSILING RD',\n",
       "       'YISHUN ST 81', 'BT BATOK ST 51', 'BT BATOK WEST AVE 4',\n",
       "       'BT BATOK WEST AVE 2', 'JURONG WEST ST 91', 'JURONG WEST ST 81',\n",
       "       'GANGSA RD', 'MCNAIR RD', 'SIMEI ST 4', 'YISHUN AVE 7',\n",
       "       'SERANGOON NTH AVE 2', 'YISHUN AVE 11', 'BANGKIT RD',\n",
       "       'JURONG WEST ST 73', 'OUTRAM HILL', 'HOUGANG AVE 6',\n",
       "       'PASIR RIS ST 12', 'PENDING RD', 'PETIR RD', 'LOR 3 GEYLANG',\n",
       "       'BISHAN ST 11', 'PASIR RIS DR 6', 'BISHAN ST 23',\n",
       "       'JURONG WEST ST 92', 'PASIR RIS ST 11', 'YISHUN CTRL',\n",
       "       'BISHAN ST 22', 'SIMEI RD', 'TAMPINES ST 84', 'BT PANJANG RING RD',\n",
       "       'JURONG WEST ST 93', 'FAJAR RD', 'WOODLANDS ST 81',\n",
       "       'CHOA CHU KANG CTRL', 'PASIR RIS ST 51', 'HOUGANG ST 52',\n",
       "       'CASHEW RD', 'TOH YI DR', 'HOUGANG CTRL', 'KG KAYU RD',\n",
       "       'TAMPINES AVE 8', 'TAMPINES ST 45', 'SIMEI ST 2',\n",
       "       'WOODLANDS AVE 3', 'LENGKONG TIGA', 'WOODLANDS ST 82',\n",
       "       'SERANGOON NTH AVE 4', 'SERANGOON CTRL DR', 'BRIGHT HILL DR',\n",
       "       'SAUJANA RD', 'CHOA CHU KANG AVE 3', 'TAMPINES AVE 9',\n",
       "       'JURONG WEST ST 51', 'YUNG HO RD', 'SERANGOON AVE 1',\n",
       "       'PASIR RIS ST 41', 'GEYLANG EAST AVE 2', 'CHOA CHU KANG AVE 2',\n",
       "       'KIM KEAT LINK', 'PASIR RIS DR 4', 'PASIR RIS ST 21',\n",
       "       'SENG POH RD', 'HOUGANG ST 51', 'JURONG WEST ST 72',\n",
       "       'JURONG WEST ST 71', 'PASIR RIS ST 52', 'TAMPINES ST 32',\n",
       "       'CHOA CHU KANG AVE 4', 'CHOA CHU KANG LOOP', 'JLN TENAGA',\n",
       "       'TAMPINES CTRL 1', 'TAMPINES ST 33', 'BT BATOK WEST AVE 7',\n",
       "       'JURONG WEST AVE 5', 'TAMPINES AVE 7', 'WOODLANDS ST 83',\n",
       "       'CHOA CHU KANG ST 51', 'PASIR RIS DR 3', 'YISHUN CTRL 1',\n",
       "       'CHOA CHU KANG AVE 1', 'WOODLANDS ST 31', 'BT MERAH LANE 1',\n",
       "       'PASIR RIS ST 13', 'ELIAS RD', 'BISHAN ST 24', 'WHAMPOA RD',\n",
       "       'WOODLANDS ST 41', 'PASIR RIS ST 71', 'JURONG WEST ST 74',\n",
       "       'PASIR RIS DR 1', 'PASIR RIS ST 72', 'PASIR RIS DR 10',\n",
       "       'CHOA CHU KANG ST 52', 'CLARENCE LANE', 'CHOA CHU KANG NTH 6',\n",
       "       'PASIR RIS ST 53', 'CHOA CHU KANG NTH 5', 'ANG MO KIO ST 21',\n",
       "       'JLN DAMAI', 'CHOA CHU KANG ST 62', 'WOODLANDS AVE 5',\n",
       "       'WOODLANDS DR 50', 'CHOA CHU KANG ST 53', 'TAMPINES ST 72',\n",
       "       'UPP SERANGOON RD', 'JURONG WEST ST 75', 'STRATHMORE AVE',\n",
       "       'ANG MO KIO ST 31', 'TAMPINES ST 34', 'YUNG AN RD',\n",
       "       'WOODLANDS AVE 4', 'CHOA CHU KANG NTH 7', 'ANG MO KIO ST 11',\n",
       "       'WOODLANDS AVE 9', 'YUNG LOH RD', 'CHOA CHU KANG DR',\n",
       "       'CHOA CHU KANG ST 54', 'REDHILL LANE', 'KANG CHING RD',\n",
       "       'TAH CHING RD', 'SIMEI ST 5', 'WOODLANDS DR 40', 'WOODLANDS DR 70',\n",
       "       'TAMPINES ST 71', 'WOODLANDS DR 42', 'SERANGOON NTH AVE 3',\n",
       "       'JELAPANG RD', 'BT BATOK ST 22', 'HOUGANG ST 91',\n",
       "       'WOODLANDS AVE 6', 'WOODLANDS CIRCLE', 'CORPORATION DR',\n",
       "       'LOMPANG RD', 'WOODLANDS DR 72', 'CHOA CHU KANG ST 64',\n",
       "       'BT BATOK ST 24', 'JLN TECK WHYE', 'WOODLANDS CRES',\n",
       "       'WOODLANDS DR 60', 'CHANGI VILLAGE RD', 'BT BATOK ST 25',\n",
       "       'HOUGANG AVE 9', 'JURONG WEST CTRL 1', 'WOODLANDS RING RD',\n",
       "       'CHOA CHU KANG AVE 5', 'TOH GUAN RD', 'JURONG WEST ST 61',\n",
       "       'WOODLANDS DR 14', 'HOUGANG ST 92', 'CHOA CHU KANG CRES',\n",
       "       'SEMBAWANG CL', 'CANBERRA RD', 'SEMBAWANG CRES', 'SEMBAWANG VISTA',\n",
       "       'COMPASSVALE WALK', 'RIVERVALE ST', 'WOODLANDS DR 62',\n",
       "       'SEMBAWANG DR', 'WOODLANDS DR 53', 'WOODLANDS DR 52',\n",
       "       'RIVERVALE WALK', 'COMPASSVALE LANE', 'RIVERVALE DR', 'SENJA RD',\n",
       "       'JURONG WEST ST 65', 'RIVERVALE CRES', 'WOODLANDS DR 44',\n",
       "       'COMPASSVALE DR', 'WOODLANDS DR 16', 'COMPASSVALE RD',\n",
       "       'WOODLANDS DR 73', 'HOUGANG ST 31', 'JURONG WEST ST 64',\n",
       "       'WOODLANDS DR 71', 'YISHUN ST 20', 'ADMIRALTY DR',\n",
       "       'COMPASSVALE ST', 'BEDOK RESERVOIR VIEW', 'YUNG SHENG RD',\n",
       "       'ADMIRALTY LINK', 'SENGKANG EAST WAY', 'ANG MO KIO ST 32',\n",
       "       'ANG MO KIO ST 52', 'BOON TIONG RD', 'JURONG WEST ST 62',\n",
       "       'ANCHORVALE LINK', 'CANBERRA LINK', 'COMPASSVALE CRES',\n",
       "       'CLEMENTI ST 12', 'MONTREAL DR', 'WELLINGTON CIRCLE',\n",
       "       'SENGKANG EAST RD', 'JURONG WEST AVE 3', 'ANCHORVALE LANE',\n",
       "       'SENJA LINK', 'EDGEFIELD PLAINS', 'ANCHORVALE DR', 'SEGAR RD',\n",
       "       'FARRER PK RD', 'PUNGGOL FIELD', 'EDGEDALE PLAINS',\n",
       "       'ANCHORVALE RD', 'CANTONMENT CL', 'JLN MEMBINA', 'FERNVALE LANE',\n",
       "       'JURONG WEST ST 25', 'CLEMENTI ST 11', 'PUNGGOL FIELD WALK',\n",
       "       'KLANG LANE', 'PUNGGOL CTRL', 'JELEBU RD', 'BUANGKOK CRES',\n",
       "       'WOODLANDS DR 75', 'BT BATOK WEST AVE 5', 'JELLICOE RD',\n",
       "       'PUNGGOL DR', 'JURONG WEST ST 24', 'SEMBAWANG WAY', 'FERNVALE RD',\n",
       "       'BUANGKOK LINK', 'FERNVALE LINK', 'JLN TIGA', 'YUAN CHING RD',\n",
       "       'COMPASSVALE LINK', 'MARINE PARADE CTRL', 'COMPASSVALE BOW',\n",
       "       'PUNGGOL RD', 'BEDOK CTRL', 'PUNGGOL EAST', 'SENGKANG CTRL',\n",
       "       'TAMPINES CTRL 7', 'SENGKANG WEST AVE', 'PUNGGOL PL',\n",
       "       'CANTONMENT RD', 'GHIM MOH LINK', 'SIMEI LANE', 'YISHUN ST 41',\n",
       "       'TELOK BLANGAH ST 31', 'JLN KAYU', 'LOR 1A TOA PAYOH',\n",
       "       'PUNGGOL WALK', 'SENGKANG WEST WAY', 'BUANGKOK GREEN',\n",
       "       'PUNGGOL WAY', 'YISHUN ST 31', 'TECK WHYE CRES', 'MONTREAL LINK',\n",
       "       'UPP SERANGOON CRES', 'SUMANG LINK', 'SENGKANG EAST AVE',\n",
       "       'YISHUN AVE 1', 'ANCHORVALE CRES', 'ANCHORVALE ST',\n",
       "       'TAMPINES CTRL 8', 'YISHUN ST 51', 'UPP SERANGOON VIEW',\n",
       "       'TAMPINES AVE 1', 'BEDOK RESERVOIR CRES', 'ANG MO KIO ST 61',\n",
       "       'DAWSON RD', 'FERNVALE ST', 'HOUGANG ST 32', 'TAMPINES ST 86',\n",
       "       'SUMANG WALK', 'CHOA CHU KANG AVE 7', 'KEAT HONG CL',\n",
       "       'JURONG WEST CTRL 3', 'KEAT HONG LINK', 'ALJUNIED AVE 2',\n",
       "       'CANBERRA CRES', 'SUMANG LANE', 'CANBERRA ST', 'ANG MO KIO ST 44',\n",
       "       'ANG MO KIO ST 51', 'BT BATOK EAST AVE 6', 'BT BATOK WEST AVE 9',\n",
       "       'CANBERRA WALK', 'WOODLANDS RISE', 'TAMPINES ST 61',\n",
       "       'YISHUN ST 43'], dtype=object)"
      ]
     },
     "execution_count": 9,
     "metadata": {},
     "output_type": "execute_result"
    }
   ],
   "source": [
    "df['street_name'].unique()"
   ]
  },
  {
   "cell_type": "code",
   "execution_count": 10,
   "id": "5d2f70f7-c753-4a2e-87ee-7534e16ffddb",
   "metadata": {},
   "outputs": [
    {
     "data": {
      "text/plain": [
       "array(['10 TO 12', '04 TO 06', '07 TO 09', '01 TO 03', '13 TO 15',\n",
       "       '19 TO 21', '16 TO 18', '25 TO 27', '22 TO 24', '28 TO 30',\n",
       "       '31 TO 33', '40 TO 42', '37 TO 39', '34 TO 36', '06 TO 10',\n",
       "       '01 TO 05', '11 TO 15', '16 TO 20', '21 TO 25', '26 TO 30',\n",
       "       '36 TO 40', '31 TO 35', '46 TO 48', '43 TO 45', '49 TO 51'],\n",
       "      dtype=object)"
      ]
     },
     "execution_count": 10,
     "metadata": {},
     "output_type": "execute_result"
    }
   ],
   "source": [
    "df['storey_range'].unique()"
   ]
  },
  {
   "cell_type": "code",
   "execution_count": 11,
   "id": "aaf67318-e88f-4745-9627-40d323bc7bee",
   "metadata": {},
   "outputs": [
    {
     "data": {
      "text/plain": [
       "array([ 31. ,  73. ,  67. ,  82. ,  74. ,  88. ,  89. ,  83. ,  68. ,\n",
       "        75. ,  81. ,  91. ,  92. ,  97. ,  90. ,  98. ,  99. , 100. ,\n",
       "        93. , 103. , 119. , 120. , 118. , 121. , 135. , 117. ,  45. ,\n",
       "        65. ,  59. ,  70. ,  76. ,  84. , 104. , 105. , 125. , 132. ,\n",
       "       139. , 123. , 143. , 151. ,  69. , 106. , 107. , 116. , 149. ,\n",
       "       141. , 146. , 148. , 145. , 154. , 150. ,  29. ,  51. ,  61. ,\n",
       "        63. ,  64. ,  72. ,  58. ,  66. ,  60. ,  53. ,  54. ,  56. ,\n",
       "        77. , 133. , 131. , 115. ,  43. ,  38. ,  41. ,  85. , 111. ,\n",
       "       101. , 112. , 137. , 127. , 147. , 163. ,  50. ,  40. ,  60.3,\n",
       "        62. ,  55. ,  57. ,  52. ,  63.1, 102. ,  83.1, 126. , 140. ,\n",
       "       142. ,  71. , 108. , 144. ,  96. , 114. , 157. , 152. , 155. ,\n",
       "        87. , 109. , 110. ,  94. , 134. , 122. , 128. ,  78. ,  46. ,\n",
       "        42. ,  49. ,  47. ,  86. , 156. ,  79. ,  80. , 124. ,  28. ,\n",
       "       113. ,  95. , 160. , 136. ,  48. , 138. , 161. ,  39. , 130. ,\n",
       "       159. , 206. ,  68.2,  64.9, 129. , 165. , 153. , 166. , 210. ,\n",
       "        59.2,  73.1,  48.1, 174. ,  74.9, 164. , 158. ,  37. , 198. ,\n",
       "       173. , 199. , 261. , 179. ,  69.7, 246. , 171. , 181. ,  44. ,\n",
       "       169. , 189. ,  67.2, 222. ,  64.8, 250. ,  74.8, 215. , 237. ,\n",
       "        59.1, 185. , 297. , 177. , 243. ,  69.9, 162. , 170. , 190. ,\n",
       "       175. , 187. , 241. , 186. ,  56.4, 176. ,  75.9, 184. , 178. ,\n",
       "        69.2, 172. , 168. , 167. , 152.4,  64.7, 195. , 188. , 225. ,\n",
       "       307. , 182. , 131.1, 192. , 183. , 280. , 180. , 221. , 193. ,\n",
       "       207. ,  89.1,  88.1, 259. , 266. ,  87.1,  34. ,  35. , 239. ,\n",
       "       249. ,  68.8, 100.2, 208. , 189.4])"
      ]
     },
     "execution_count": 11,
     "metadata": {},
     "output_type": "execute_result"
    }
   ],
   "source": [
    "df['floor_area_sqm'].unique()"
   ]
  },
  {
   "cell_type": "code",
   "execution_count": 12,
   "id": "0ea69a9a-d6ac-4063-bdbd-b2050528292c",
   "metadata": {},
   "outputs": [
    {
     "data": {
      "text/plain": [
       "array(['IMPROVED', 'NEW GENERATION', 'MODEL A', 'STANDARD', 'SIMPLIFIED',\n",
       "       'MODEL A-MAISONETTE', 'APARTMENT', 'MAISONETTE', 'TERRACE',\n",
       "       '2-ROOM', 'IMPROVED-MAISONETTE', 'MULTI GENERATION',\n",
       "       'PREMIUM APARTMENT', 'Improved', 'New Generation', 'Model A',\n",
       "       'Standard', 'Apartment', 'Simplified', 'Model A-Maisonette',\n",
       "       'Maisonette', 'Multi Generation', 'Adjoined flat',\n",
       "       'Premium Apartment', 'Terrace', 'Improved-Maisonette',\n",
       "       'Premium Maisonette', '2-room', 'Model A2', 'DBSS', 'Type S1',\n",
       "       'Type S2', 'Premium Apartment Loft', '3Gen'], dtype=object)"
      ]
     },
     "execution_count": 12,
     "metadata": {},
     "output_type": "execute_result"
    }
   ],
   "source": [
    "df['flat_model'].unique()"
   ]
  },
  {
   "cell_type": "code",
   "execution_count": 13,
   "id": "e07c5d3b-f956-4c69-bf2d-6727c903e5cc",
   "metadata": {},
   "outputs": [],
   "source": [
    "#Equation for the lease period in singapore i.e., 99 years will be added from the lease commence year\n",
    "remaining_lease = (df['lease_commence_date'] + 99) - 2024"
   ]
  },
  {
   "cell_type": "code",
   "execution_count": 14,
   "id": "910be626-044f-414c-b685-f60e413380b3",
   "metadata": {},
   "outputs": [],
   "source": [
    "df['remaining_lease'] = df['remaining_lease'].fillna(remaining_lease)"
   ]
  },
  {
   "cell_type": "code",
   "execution_count": 15,
   "id": "1354fbc9-9953-425d-a087-b696d2ea6433",
   "metadata": {},
   "outputs": [
    {
     "data": {
      "text/html": [
       "<div>\n",
       "<style scoped>\n",
       "    .dataframe tbody tr th:only-of-type {\n",
       "        vertical-align: middle;\n",
       "    }\n",
       "\n",
       "    .dataframe tbody tr th {\n",
       "        vertical-align: top;\n",
       "    }\n",
       "\n",
       "    .dataframe thead th {\n",
       "        text-align: right;\n",
       "    }\n",
       "</style>\n",
       "<table border=\"1\" class=\"dataframe\">\n",
       "  <thead>\n",
       "    <tr style=\"text-align: right;\">\n",
       "      <th></th>\n",
       "      <th>month</th>\n",
       "      <th>town</th>\n",
       "      <th>flat_type</th>\n",
       "      <th>block</th>\n",
       "      <th>street_name</th>\n",
       "      <th>storey_range</th>\n",
       "      <th>floor_area_sqm</th>\n",
       "      <th>flat_model</th>\n",
       "      <th>lease_commence_date</th>\n",
       "      <th>resale_price</th>\n",
       "      <th>remaining_lease</th>\n",
       "    </tr>\n",
       "  </thead>\n",
       "  <tbody>\n",
       "    <tr>\n",
       "      <th>0</th>\n",
       "      <td>1990-01</td>\n",
       "      <td>ANG MO KIO</td>\n",
       "      <td>1 ROOM</td>\n",
       "      <td>309</td>\n",
       "      <td>ANG MO KIO AVE 1</td>\n",
       "      <td>10 TO 12</td>\n",
       "      <td>31.0</td>\n",
       "      <td>IMPROVED</td>\n",
       "      <td>1977</td>\n",
       "      <td>9000.0</td>\n",
       "      <td>52</td>\n",
       "    </tr>\n",
       "    <tr>\n",
       "      <th>1</th>\n",
       "      <td>1990-01</td>\n",
       "      <td>ANG MO KIO</td>\n",
       "      <td>1 ROOM</td>\n",
       "      <td>309</td>\n",
       "      <td>ANG MO KIO AVE 1</td>\n",
       "      <td>04 TO 06</td>\n",
       "      <td>31.0</td>\n",
       "      <td>IMPROVED</td>\n",
       "      <td>1977</td>\n",
       "      <td>6000.0</td>\n",
       "      <td>52</td>\n",
       "    </tr>\n",
       "    <tr>\n",
       "      <th>2</th>\n",
       "      <td>1990-01</td>\n",
       "      <td>ANG MO KIO</td>\n",
       "      <td>1 ROOM</td>\n",
       "      <td>309</td>\n",
       "      <td>ANG MO KIO AVE 1</td>\n",
       "      <td>10 TO 12</td>\n",
       "      <td>31.0</td>\n",
       "      <td>IMPROVED</td>\n",
       "      <td>1977</td>\n",
       "      <td>8000.0</td>\n",
       "      <td>52</td>\n",
       "    </tr>\n",
       "    <tr>\n",
       "      <th>3</th>\n",
       "      <td>1990-01</td>\n",
       "      <td>ANG MO KIO</td>\n",
       "      <td>1 ROOM</td>\n",
       "      <td>309</td>\n",
       "      <td>ANG MO KIO AVE 1</td>\n",
       "      <td>07 TO 09</td>\n",
       "      <td>31.0</td>\n",
       "      <td>IMPROVED</td>\n",
       "      <td>1977</td>\n",
       "      <td>6000.0</td>\n",
       "      <td>52</td>\n",
       "    </tr>\n",
       "    <tr>\n",
       "      <th>4</th>\n",
       "      <td>1990-01</td>\n",
       "      <td>ANG MO KIO</td>\n",
       "      <td>3 ROOM</td>\n",
       "      <td>216</td>\n",
       "      <td>ANG MO KIO AVE 1</td>\n",
       "      <td>04 TO 06</td>\n",
       "      <td>73.0</td>\n",
       "      <td>NEW GENERATION</td>\n",
       "      <td>1976</td>\n",
       "      <td>47200.0</td>\n",
       "      <td>51</td>\n",
       "    </tr>\n",
       "    <tr>\n",
       "      <th>...</th>\n",
       "      <td>...</td>\n",
       "      <td>...</td>\n",
       "      <td>...</td>\n",
       "      <td>...</td>\n",
       "      <td>...</td>\n",
       "      <td>...</td>\n",
       "      <td>...</td>\n",
       "      <td>...</td>\n",
       "      <td>...</td>\n",
       "      <td>...</td>\n",
       "      <td>...</td>\n",
       "    </tr>\n",
       "    <tr>\n",
       "      <th>930268</th>\n",
       "      <td>2024-07</td>\n",
       "      <td>YISHUN</td>\n",
       "      <td>EXECUTIVE</td>\n",
       "      <td>406</td>\n",
       "      <td>YISHUN AVE 6</td>\n",
       "      <td>10 TO 12</td>\n",
       "      <td>142.0</td>\n",
       "      <td>Apartment</td>\n",
       "      <td>1988</td>\n",
       "      <td>838000.0</td>\n",
       "      <td>63 years 03 months</td>\n",
       "    </tr>\n",
       "    <tr>\n",
       "      <th>930269</th>\n",
       "      <td>2024-07</td>\n",
       "      <td>YISHUN</td>\n",
       "      <td>EXECUTIVE</td>\n",
       "      <td>792</td>\n",
       "      <td>YISHUN RING RD</td>\n",
       "      <td>07 TO 09</td>\n",
       "      <td>147.0</td>\n",
       "      <td>Apartment</td>\n",
       "      <td>1987</td>\n",
       "      <td>820000.0</td>\n",
       "      <td>62 years 03 months</td>\n",
       "    </tr>\n",
       "    <tr>\n",
       "      <th>930270</th>\n",
       "      <td>2024-07</td>\n",
       "      <td>YISHUN</td>\n",
       "      <td>EXECUTIVE</td>\n",
       "      <td>352</td>\n",
       "      <td>YISHUN RING RD</td>\n",
       "      <td>04 TO 06</td>\n",
       "      <td>146.0</td>\n",
       "      <td>Maisonette</td>\n",
       "      <td>1988</td>\n",
       "      <td>865000.0</td>\n",
       "      <td>63 years 01 month</td>\n",
       "    </tr>\n",
       "    <tr>\n",
       "      <th>930271</th>\n",
       "      <td>2024-07</td>\n",
       "      <td>YISHUN</td>\n",
       "      <td>EXECUTIVE</td>\n",
       "      <td>277</td>\n",
       "      <td>YISHUN ST 22</td>\n",
       "      <td>01 TO 03</td>\n",
       "      <td>146.0</td>\n",
       "      <td>Maisonette</td>\n",
       "      <td>1985</td>\n",
       "      <td>770000.0</td>\n",
       "      <td>60 years 03 months</td>\n",
       "    </tr>\n",
       "    <tr>\n",
       "      <th>930272</th>\n",
       "      <td>2024-07</td>\n",
       "      <td>YISHUN</td>\n",
       "      <td>EXECUTIVE</td>\n",
       "      <td>277</td>\n",
       "      <td>YISHUN ST 22</td>\n",
       "      <td>04 TO 06</td>\n",
       "      <td>146.0</td>\n",
       "      <td>Maisonette</td>\n",
       "      <td>1985</td>\n",
       "      <td>800000.0</td>\n",
       "      <td>60 years 02 months</td>\n",
       "    </tr>\n",
       "  </tbody>\n",
       "</table>\n",
       "<p>930273 rows × 11 columns</p>\n",
       "</div>"
      ],
      "text/plain": [
       "          month        town  flat_type block       street_name storey_range  \\\n",
       "0       1990-01  ANG MO KIO     1 ROOM   309  ANG MO KIO AVE 1     10 TO 12   \n",
       "1       1990-01  ANG MO KIO     1 ROOM   309  ANG MO KIO AVE 1     04 TO 06   \n",
       "2       1990-01  ANG MO KIO     1 ROOM   309  ANG MO KIO AVE 1     10 TO 12   \n",
       "3       1990-01  ANG MO KIO     1 ROOM   309  ANG MO KIO AVE 1     07 TO 09   \n",
       "4       1990-01  ANG MO KIO     3 ROOM   216  ANG MO KIO AVE 1     04 TO 06   \n",
       "...         ...         ...        ...   ...               ...          ...   \n",
       "930268  2024-07      YISHUN  EXECUTIVE   406      YISHUN AVE 6     10 TO 12   \n",
       "930269  2024-07      YISHUN  EXECUTIVE   792    YISHUN RING RD     07 TO 09   \n",
       "930270  2024-07      YISHUN  EXECUTIVE   352    YISHUN RING RD     04 TO 06   \n",
       "930271  2024-07      YISHUN  EXECUTIVE   277      YISHUN ST 22     01 TO 03   \n",
       "930272  2024-07      YISHUN  EXECUTIVE   277      YISHUN ST 22     04 TO 06   \n",
       "\n",
       "        floor_area_sqm      flat_model  lease_commence_date  resale_price  \\\n",
       "0                 31.0        IMPROVED                 1977        9000.0   \n",
       "1                 31.0        IMPROVED                 1977        6000.0   \n",
       "2                 31.0        IMPROVED                 1977        8000.0   \n",
       "3                 31.0        IMPROVED                 1977        6000.0   \n",
       "4                 73.0  NEW GENERATION                 1976       47200.0   \n",
       "...                ...             ...                  ...           ...   \n",
       "930268           142.0       Apartment                 1988      838000.0   \n",
       "930269           147.0       Apartment                 1987      820000.0   \n",
       "930270           146.0      Maisonette                 1988      865000.0   \n",
       "930271           146.0      Maisonette                 1985      770000.0   \n",
       "930272           146.0      Maisonette                 1985      800000.0   \n",
       "\n",
       "           remaining_lease  \n",
       "0                       52  \n",
       "1                       52  \n",
       "2                       52  \n",
       "3                       52  \n",
       "4                       51  \n",
       "...                    ...  \n",
       "930268  63 years 03 months  \n",
       "930269  62 years 03 months  \n",
       "930270   63 years 01 month  \n",
       "930271  60 years 03 months  \n",
       "930272  60 years 02 months  \n",
       "\n",
       "[930273 rows x 11 columns]"
      ]
     },
     "execution_count": 15,
     "metadata": {},
     "output_type": "execute_result"
    }
   ],
   "source": [
    "df"
   ]
  },
  {
   "cell_type": "code",
   "execution_count": 16,
   "id": "573dda44-e62e-41a4-b7cf-5afa90738fe8",
   "metadata": {},
   "outputs": [
    {
     "data": {
      "text/plain": [
       "month                  0\n",
       "town                   0\n",
       "flat_type              0\n",
       "block                  0\n",
       "street_name            0\n",
       "storey_range           0\n",
       "floor_area_sqm         0\n",
       "flat_model             0\n",
       "lease_commence_date    0\n",
       "resale_price           0\n",
       "remaining_lease        0\n",
       "dtype: int64"
      ]
     },
     "execution_count": 16,
     "metadata": {},
     "output_type": "execute_result"
    }
   ],
   "source": [
    "df.isnull().sum()"
   ]
  },
  {
   "cell_type": "code",
   "execution_count": 17,
   "id": "ddcf0690-8f41-490a-8081-5fb4cde93122",
   "metadata": {},
   "outputs": [
    {
     "data": {
      "text/plain": [
       "array([52, 51, 53, 54, 59, 55, 60, 56, 57, 61, 47, 58, 48, 44, 50, 46, 49,\n",
       "       42, 45, 43, 63, 62, 64, 65, 67, 68, 69, 66, 70, 71, 72, 73, 74, 75,\n",
       "       76, 41, 77, 81, 78, 80, 79, 83, 82, 84, 85, 87, 86, 90, 94, 88, 89,\n",
       "       93, 92, 91, 95, 96, 97, '61 years 04 months', '60 years 07 months',\n",
       "       '62 years 05 months', '62 years 01 month', '63 years',\n",
       "       '61 years 06 months', '58 years 04 months', '59 years 08 months',\n",
       "       '59 years 06 months', '60 years', '62 years 08 months', '61 years',\n",
       "       '60 years 10 months', '59 years 03 months', '61 years 05 months',\n",
       "       '60 years 04 months', '62 years', '60 years 03 months',\n",
       "       '63 years 09 months', '61 years 01 month', '61 years 10 months',\n",
       "       '58 years 06 months', '59 years 04 months', '62 years 11 months',\n",
       "       '60 years 08 months', '93 years 08 months', '93 years 07 months',\n",
       "       '60 years 01 month', '94 years 08 months', '78 years 04 months',\n",
       "       '60 years 06 months', '62 years 06 months', '58 years',\n",
       "       '70 years 08 months', '63 years 04 months', '63 years 06 months',\n",
       "       '67 years 07 months', '61 years 07 months', '68 years 02 months',\n",
       "       '68 years 03 months', '56 years', '67 years 09 months',\n",
       "       '67 years 05 months', '63 years 07 months', '66 years 03 months',\n",
       "       '65 years 04 months', '69 years 05 months', '59 years 11 months',\n",
       "       '60 years 05 months', '69 years 02 months', '69 years 03 months',\n",
       "       '68 years 10 months', '62 years 10 months', '64 years 04 months',\n",
       "       '66 years 01 month', '83 years', '83 years 01 month',\n",
       "       '87 years 11 months', '71 years 02 months', '92 years 04 months',\n",
       "       '54 years 06 months', '78 years 06 months', '82 years 11 months',\n",
       "       '75 years 04 months', '66 years 07 months', '66 years 06 months',\n",
       "       '75 years 11 months', '68 years 04 months', '55 years 09 months',\n",
       "       '68 years 07 months', '67 years 11 months', '68 years',\n",
       "       '69 years 01 month', '69 years 11 months', '74 years 06 months',\n",
       "       '74 years 04 months', '69 years 06 months', '72 years 03 months',\n",
       "       '67 years 02 months', '66 years 05 months', '69 years 04 months',\n",
       "       '66 years 11 months', '66 years 10 months', '80 years',\n",
       "       '69 years 08 months', '66 years 09 months', '67 years 10 months',\n",
       "       '80 years 01 month', '67 years 06 months', '86 years 08 months',\n",
       "       '71 years 06 months', '71 years 03 months', '67 years 04 months',\n",
       "       '86 years 11 months', '86 years 10 months', '79 years 05 months',\n",
       "       '65 years 10 months', '67 years 03 months', '79 years 11 months',\n",
       "       '53 years 06 months', '57 years 02 months', '52 years 01 month',\n",
       "       '58 years 03 months', '51 years 06 months', '58 years 08 months',\n",
       "       '56 years 02 months', '53 years 08 months', '64 years 08 months',\n",
       "       '55 years 06 months', '95 years 07 months', '55 years 01 month',\n",
       "       '55 years', '95 years 04 months', '52 years 06 months',\n",
       "       '57 years 04 months', '57 years', '82 years 06 months',\n",
       "       '67 years 08 months', '79 years', '95 years 08 months',\n",
       "       '90 years 11 months', '87 years 10 months', '82 years 08 months',\n",
       "       '68 years 06 months', '81 years 02 months', '56 years 05 months',\n",
       "       '65 years 05 months', '70 years 09 months', '71 years 01 month',\n",
       "       '94 years 10 months', '80 years 03 months', '83 years 11 months',\n",
       "       '70 years 10 months', '81 years 01 month', '70 years 06 months',\n",
       "       '85 years', '81 years 05 months', '80 years 07 months',\n",
       "       '80 years 10 months', '83 years 10 months', '86 years 09 months',\n",
       "       '79 years 09 months', '84 years 10 months', '80 years 11 months',\n",
       "       '70 years 11 months', '84 years 04 months', '83 years 09 months',\n",
       "       '81 years 04 months', '79 years 07 months', '81 years 03 months',\n",
       "       '70 years 01 month', '70 years 05 months', '70 years 07 months',\n",
       "       '56 years 03 months', '64 years', '68 years 09 months',\n",
       "       '65 years 03 months', '59 years 01 month', '61 years 02 months',\n",
       "       '62 years 04 months', '93 years', '71 years 08 months',\n",
       "       '82 years 03 months', '71 years 04 months', '75 years 05 months',\n",
       "       '85 years 01 month', '81 years 09 months', '72 years 08 months',\n",
       "       '75 years 06 months', '78 years 03 months', '82 years 01 month',\n",
       "       '84 years 03 months', '77 years 05 months', '77 years 07 months',\n",
       "       '85 years 04 months', '79 years 04 months', '78 years 09 months',\n",
       "       '81 years 06 months', '78 years', '63 years 08 months',\n",
       "       '62 years 07 months', '65 years 09 months', '60 years 02 months',\n",
       "       '88 years 10 months', '53 years', '49 years', '51 years',\n",
       "       '50 years 05 months', '54 years 11 months', '59 years 05 months',\n",
       "       '82 years 04 months', '65 years 07 months', '89 years',\n",
       "       '72 years 05 months', '78 years 05 months', '58 years 07 months',\n",
       "       '80 years 05 months', '94 years 04 months', '69 years', '65 years',\n",
       "       '65 years 02 months', '71 years 07 months', '75 years 03 months',\n",
       "       '65 years 01 month', '79 years 10 months', '73 years 04 months',\n",
       "       '72 years 04 months', '74 years 08 months', '74 years 09 months',\n",
       "       '80 years 02 months', '81 years 10 months', '86 years 05 months',\n",
       "       '85 years 06 months', '79 years 01 month', '80 years 06 months',\n",
       "       '74 years 11 months', '68 years 08 months', '68 years 05 months',\n",
       "       '48 years 09 months', '63 years 05 months', '65 years 06 months',\n",
       "       '66 years 04 months', '67 years 01 month', '95 years 09 months',\n",
       "       '80 years 09 months', '82 years 02 months', '61 years 09 months',\n",
       "       '90 years 07 months', '57 years 09 months', '54 years',\n",
       "       '53 years 05 months', '71 years', '58 years 10 months',\n",
       "       '92 years 03 months', '66 years 02 months', '64 years 03 months',\n",
       "       '72 years 02 months', '83 years 04 months', '78 years 07 months',\n",
       "       '84 years 01 month', '78 years 08 months', '72 years 10 months',\n",
       "       '71 years 11 months', '76 years', '78 years 02 months',\n",
       "       '71 years 05 months', '72 years 07 months', '83 years 03 months',\n",
       "       '67 years', '72 years 11 months', '90 years 08 months',\n",
       "       '84 years 11 months', '84 years 09 months', '82 years 07 months',\n",
       "       '66 years 08 months', '88 years 04 months', '85 years 10 months',\n",
       "       '90 years 05 months', '90 years 06 months', '83 years 05 months',\n",
       "       '84 years 02 months', '82 years 09 months', '82 years 05 months',\n",
       "       '73 years', '84 years 06 months', '83 years 07 months',\n",
       "       '52 years 05 months', '56 years 08 months', '56 years 06 months',\n",
       "       '68 years 01 month', '64 years 10 months', '57 years 01 month',\n",
       "       '86 years 06 months', '88 years 07 months', '93 years 11 months',\n",
       "       '58 years 02 months', '78 years 10 months', '77 years 08 months',\n",
       "       '75 years 07 months', '77 years 09 months', '75 years 08 months',\n",
       "       '77 years 04 months', '85 years 07 months', '95 years',\n",
       "       '89 years 07 months', '91 years 02 months', '94 years 11 months',\n",
       "       '85 years 11 months', '94 years 06 months', '94 years 07 months',\n",
       "       '95 years 01 month', '95 years 02 months', '95 years 06 months',\n",
       "       '93 years 02 months', '86 years 03 months', '87 years',\n",
       "       '86 years 04 months', '85 years 03 months', '86 years 02 months',\n",
       "       '85 years 09 months', '52 years', '49 years 01 month',\n",
       "       '57 years 06 months', '56 years 04 months', '95 years 03 months',\n",
       "       '88 years 11 months', '59 years', '85 years 08 months',\n",
       "       '92 years 07 months', '83 years 06 months', '83 years 02 months',\n",
       "       '81 years 11 months', '84 years', '94 years 02 months',\n",
       "       '94 years 01 month', '85 years 05 months', '85 years 02 months',\n",
       "       '83 years 08 months', '95 years 10 months', '93 years 10 months',\n",
       "       '81 years', '95 years 05 months', '88 years 01 month',\n",
       "       '94 years 09 months', '92 years 02 months', '90 years 04 months',\n",
       "       '91 years 11 months', '91 years 07 months', '84 years 08 months',\n",
       "       '84 years 05 months', '71 years 10 months', '74 years 10 months',\n",
       "       '69 years 09 months', '79 years 02 months', '64 years 09 months',\n",
       "       '79 years 03 months', '79 years 06 months', '79 years 08 months',\n",
       "       '90 years', '69 years 10 months', '77 years 10 months',\n",
       "       '49 years 05 months', '52 years 07 months', '54 years 07 months',\n",
       "       '88 years', '91 years 03 months', '59 years 10 months',\n",
       "       '62 years 09 months', '78 years 01 month', '71 years 09 months',\n",
       "       '81 years 08 months', '78 years 11 months', '74 years 05 months',\n",
       "       '66 years', '70 years', '70 years 02 months', '77 years 02 months',\n",
       "       '70 years 03 months', '69 years 07 months', '63 years 02 months',\n",
       "       '59 years 02 months', '61 years 11 months', '61 years 03 months',\n",
       "       '60 years 11 months', '75 years 02 months', '76 years 10 months',\n",
       "       '57 years 11 months', '54 years 05 months', '62 years 03 months',\n",
       "       '59 years 07 months', '62 years 02 months', '64 years 05 months',\n",
       "       '63 years 03 months', '82 years 10 months', '64 years 11 months',\n",
       "       '72 years', '74 years 03 months', '80 years 04 months',\n",
       "       '93 years 06 months', '68 years 11 months', '70 years 04 months',\n",
       "       '86 years 07 months', '57 years 03 months', '49 years 04 months',\n",
       "       '51 years 05 months', '52 years 11 months', '55 years 05 months',\n",
       "       '56 years 11 months', '87 years 08 months', '61 years 08 months',\n",
       "       '76 years 11 months', '77 years 06 months', '84 years 07 months',\n",
       "       '87 years 01 month', '59 years 09 months', '92 years 11 months',\n",
       "       '77 years', '76 years 09 months', '88 years 05 months',\n",
       "       '50 years 11 months', '48 years 11 months', '58 years 05 months',\n",
       "       '57 years 05 months', '94 years 03 months', '74 years 07 months',\n",
       "       '64 years 07 months', '64 years 01 month', '80 years 08 months',\n",
       "       '57 years 08 months', '58 years 09 months', '53 years 11 months',\n",
       "       '55 years 11 months', '56 years 01 month', '88 years 08 months',\n",
       "       '88 years 06 months', '92 years', '58 years 11 months',\n",
       "       '76 years 02 months', '76 years 08 months', '75 years 09 months',\n",
       "       '77 years 01 month', '89 years 10 months', '94 years 05 months',\n",
       "       '92 years 05 months', '86 years 01 month', '92 years 06 months',\n",
       "       '92 years 01 month', '94 years', '91 years 04 months',\n",
       "       '89 years 06 months', '90 years 03 months', '91 years 06 months',\n",
       "       '86 years', '90 years 10 months', '77 years 11 months',\n",
       "       '50 years 04 months', '51 years 11 months', '58 years 01 month',\n",
       "       '76 years 04 months', '82 years', '81 years 07 months',\n",
       "       '65 years 11 months', '63 years 01 month', '63 years 10 months',\n",
       "       '93 years 05 months', '93 years 04 months', '57 years 10 months',\n",
       "       '55 years 10 months', '64 years 06 months', '87 years 09 months',\n",
       "       '64 years 02 months', '55 years 07 months', '55 years 08 months',\n",
       "       '74 years 01 month', '65 years 08 months', '75 years',\n",
       "       '51 years 04 months', '54 years 10 months', '55 years 04 months',\n",
       "       '51 years 10 months', '92 years 10 months', '56 years 10 months',\n",
       "       '90 years 09 months', '87 years 07 months', '53 years 03 months',\n",
       "       '77 years 03 months', '50 years 10 months', '48 years 10 months',\n",
       "       '52 years 10 months', '93 years 09 months', '87 years 03 months',\n",
       "       '63 years 11 months', '75 years 01 month', '72 years 01 month',\n",
       "       '56 years 07 months', '57 years 07 months', '53 years 10 months',\n",
       "       '72 years 09 months', '75 years 10 months', '88 years 02 months',\n",
       "       '52 years 03 months', '54 years 04 months', '76 years 01 month',\n",
       "       '72 years 06 months', '89 years 05 months', '52 years 04 months',\n",
       "       '91 years 09 months', '90 years 02 months', '91 years 05 months',\n",
       "       '50 years 03 months', '51 years 03 months', '49 years 03 months',\n",
       "       '91 years 01 month', '76 years 03 months', '60 years 09 months',\n",
       "       '74 years', '54 years 03 months', '52 years 09 months',\n",
       "       '55 years 03 months', '54 years 09 months', '87 years 06 months',\n",
       "       '92 years 09 months', '76 years 07 months', '88 years 09 months',\n",
       "       '50 years 02 months', '53 years 09 months', '52 years 02 months',\n",
       "       '50 years 09 months', '56 years 09 months', '76 years 06 months',\n",
       "       '89 years 08 months', '51 years 09 months', '89 years 03 months',\n",
       "       '91 years 08 months', '89 years 04 months', '90 years 01 month',\n",
       "       '51 years 02 months', '49 years 02 months', '74 years 02 months',\n",
       "       '93 years 03 months', '54 years 02 months', '73 years 11 months',\n",
       "       '51 years 08 months', '54 years 08 months', '87 years 05 months',\n",
       "       '92 years 08 months', '52 years 08 months', '48 years 08 months',\n",
       "       '50 years 08 months', '50 years 01 month', '73 years 02 months',\n",
       "       '55 years 02 months', '88 years 03 months', '89 years 02 months',\n",
       "       '91 years 10 months', '53 years 02 months', '51 years 01 month',\n",
       "       '54 years 01 month', '73 years 10 months', '50 years 07 months',\n",
       "       '53 years 01 month', '87 years 04 months', '48 years 07 months',\n",
       "       '51 years 07 months', '96 years 08 months', '89 years 01 month',\n",
       "       '91 years', '76 years 05 months', '53 years 07 months', '50 years',\n",
       "       '93 years 01 month', '48 years 06 months', '50 years 06 months',\n",
       "       '73 years 01 month', '89 years 11 months', '96 years 07 months',\n",
       "       '73 years 09 months', '73 years 08 months', '87 years 02 months',\n",
       "       '49 years 10 months', '48 years 05 months', '96 years 06 months',\n",
       "       '89 years 09 months', '49 years 11 months', '73 years 07 months',\n",
       "       '48 years 04 months', '49 years 09 months', '53 years 04 months',\n",
       "       '96 years 05 months', '73 years 06 months', '48 years 03 months',\n",
       "       '49 years 08 months', '48 years', '96 years 04 months',\n",
       "       '49 years 07 months', '48 years 02 months', '96 years 03 months',\n",
       "       '73 years 05 months', '48 years 01 month', '49 years 06 months',\n",
       "       '96 years 02 months', '47 years 09 months', '96 years 01 month',\n",
       "       '47 years 11 months', '96 years', '95 years 11 months',\n",
       "       '47 years 10 months', '73 years 03 months', '47 years 08 months',\n",
       "       '47 years 04 months', '47 years 07 months', '47 years 06 months',\n",
       "       '47 years 05 months', '47 years 02 months', '47 years 03 months',\n",
       "       '47 years 01 month', '47 years', '46 years 11 months',\n",
       "       '46 years 10 months', '46 years 09 months', '46 years 08 months',\n",
       "       '66 years 0 months', '95 years 0 months', '46 years 07 months',\n",
       "       '46 years 06 months', '46 years 03 months', '93 years 0 months',\n",
       "       '46 years 05 months', '46 years 04 months', '46 years 01 month',\n",
       "       '46 years 02 months', '46 years', '45 years 09 months',\n",
       "       '45 years 11 months', '45 years 10 months', '45 years 07 months',\n",
       "       '45 years 08 months', '97 years 01 month', '45 years 06 months',\n",
       "       '97 years 09 months', '45 years 05 months', '45 years 04 months',\n",
       "       '97 years', '97 years 07 months', '45 years 03 months',\n",
       "       '45 years 02 months', '96 years 09 months', '45 years 01 month',\n",
       "       '44 years 10 months', '97 years 05 months', '97 years 04 months',\n",
       "       '45 years', '44 years 11 months', '97 years 03 months',\n",
       "       '97 years 02 months', '44 years 09 months', '44 years 08 months',\n",
       "       '96 years 11 months', '44 years 07 months', '44 years 06 months',\n",
       "       '96 years 10 months', '44 years 05 months', '44 years 04 months',\n",
       "       '44 years 03 months', '44 years 01 month', '44 years 02 months',\n",
       "       '44 years', '43 years 10 months', '43 years 09 months',\n",
       "       '43 years 08 months', '43 years 07 months', '43 years 11 months',\n",
       "       '43 years 06 months', '43 years 05 months', '43 years 04 months',\n",
       "       '43 years 03 months', '43 years 01 month', '43 years 02 months',\n",
       "       '43 years', '42 years 11 months', '42 years 08 months',\n",
       "       '42 years 07 months', '42 years 10 months', '42 years 09 months',\n",
       "       '42 years 06 months', '42 years 05 months', '42 years 04 months',\n",
       "       '42 years 03 months', '42 years 02 months', '42 years 01 month',\n",
       "       '41 years 09 months', '42 years', '41 years 11 months',\n",
       "       '41 years 10 months', '41 years 08 months', '41 years 06 months',\n",
       "       '41 years 07 months'], dtype=object)"
      ]
     },
     "execution_count": 17,
     "metadata": {},
     "output_type": "execute_result"
    }
   ],
   "source": [
    "df['remaining_lease'].unique()"
   ]
  },
  {
   "cell_type": "code",
   "execution_count": 18,
   "id": "e41a6c06-990d-4e30-9350-3e98aa55ed19",
   "metadata": {},
   "outputs": [],
   "source": [
    "df1 = df.copy()"
   ]
  },
  {
   "cell_type": "code",
   "execution_count": 19,
   "id": "1656a994-0c6a-4e6b-a683-8b9b057f2701",
   "metadata": {},
   "outputs": [],
   "source": [
    "# Function to convert values to integers\n",
    "def convert_to_int(value):\n",
    "    try:\n",
    "        return int(value)\n",
    "    except (ValueError, TypeError):\n",
    "        return np.nan  # or any default value you prefer, e.g., 0\n",
    "\n",
    "# Apply conversion function\n",
    "df1['remaining_lease'] = df1['remaining_lease'].apply(convert_to_int)"
   ]
  },
  {
   "cell_type": "code",
   "execution_count": 20,
   "id": "b6f741d7-9f3d-40ea-b303-d79bffb632c9",
   "metadata": {},
   "outputs": [
    {
     "data": {
      "text/plain": [
       "array([52., 51., 53., 54., 59., 55., 60., 56., 57., 61., 47., 58., 48.,\n",
       "       44., 50., 46., 49., 42., 45., 43., 63., 62., 64., 65., 67., 68.,\n",
       "       69., 66., 70., 71., 72., 73., 74., 75., 76., 41., 77., 81., 78.,\n",
       "       80., 79., 83., 82., 84., 85., 87., 86., 90., 94., 88., 89., 93.,\n",
       "       92., 91., 95., 96., 97., nan])"
      ]
     },
     "execution_count": 20,
     "metadata": {},
     "output_type": "execute_result"
    }
   ],
   "source": [
    "df1['remaining_lease'].unique()"
   ]
  },
  {
   "cell_type": "code",
   "execution_count": 21,
   "id": "e5ac00ce-8b0b-4f5a-b816-c52337131c74",
   "metadata": {},
   "outputs": [
    {
     "data": {
      "text/plain": [
       "month                       0\n",
       "town                        0\n",
       "flat_type                   0\n",
       "block                       0\n",
       "street_name                 0\n",
       "storey_range                0\n",
       "floor_area_sqm              0\n",
       "flat_model                  0\n",
       "lease_commence_date         0\n",
       "resale_price                0\n",
       "remaining_lease        184070\n",
       "dtype: int64"
      ]
     },
     "execution_count": 21,
     "metadata": {},
     "output_type": "execute_result"
    }
   ],
   "source": [
    "df1.isnull().sum()"
   ]
  },
  {
   "cell_type": "code",
   "execution_count": 22,
   "id": "e9ea485f-8d1a-4b85-be37-2ecca0aef7ad",
   "metadata": {},
   "outputs": [],
   "source": [
    "df1['remaining_lease'] = df1['remaining_lease'].fillna(remaining_lease)"
   ]
  },
  {
   "cell_type": "code",
   "execution_count": 23,
   "id": "2bc9c102-f135-4450-9423-dde26b96a7a7",
   "metadata": {},
   "outputs": [
    {
     "data": {
      "text/plain": [
       "month                  0\n",
       "town                   0\n",
       "flat_type              0\n",
       "block                  0\n",
       "street_name            0\n",
       "storey_range           0\n",
       "floor_area_sqm         0\n",
       "flat_model             0\n",
       "lease_commence_date    0\n",
       "resale_price           0\n",
       "remaining_lease        0\n",
       "dtype: int64"
      ]
     },
     "execution_count": 23,
     "metadata": {},
     "output_type": "execute_result"
    }
   ],
   "source": [
    "df1.isnull().sum()"
   ]
  },
  {
   "cell_type": "code",
   "execution_count": 24,
   "id": "d5534806-9dc6-48da-b9c8-1ac2d4f51103",
   "metadata": {},
   "outputs": [
    {
     "data": {
      "text/html": [
       "<div>\n",
       "<style scoped>\n",
       "    .dataframe tbody tr th:only-of-type {\n",
       "        vertical-align: middle;\n",
       "    }\n",
       "\n",
       "    .dataframe tbody tr th {\n",
       "        vertical-align: top;\n",
       "    }\n",
       "\n",
       "    .dataframe thead th {\n",
       "        text-align: right;\n",
       "    }\n",
       "</style>\n",
       "<table border=\"1\" class=\"dataframe\">\n",
       "  <thead>\n",
       "    <tr style=\"text-align: right;\">\n",
       "      <th></th>\n",
       "      <th>month</th>\n",
       "      <th>town</th>\n",
       "      <th>flat_type</th>\n",
       "      <th>block</th>\n",
       "      <th>street_name</th>\n",
       "      <th>storey_range</th>\n",
       "      <th>floor_area_sqm</th>\n",
       "      <th>flat_model</th>\n",
       "      <th>lease_commence_date</th>\n",
       "      <th>resale_price</th>\n",
       "      <th>remaining_lease</th>\n",
       "    </tr>\n",
       "  </thead>\n",
       "  <tbody>\n",
       "    <tr>\n",
       "      <th>0</th>\n",
       "      <td>1990-01</td>\n",
       "      <td>ANG MO KIO</td>\n",
       "      <td>1 ROOM</td>\n",
       "      <td>309</td>\n",
       "      <td>ANG MO KIO AVE 1</td>\n",
       "      <td>10 TO 12</td>\n",
       "      <td>31.0</td>\n",
       "      <td>IMPROVED</td>\n",
       "      <td>1977</td>\n",
       "      <td>9000.0</td>\n",
       "      <td>52.0</td>\n",
       "    </tr>\n",
       "    <tr>\n",
       "      <th>1</th>\n",
       "      <td>1990-01</td>\n",
       "      <td>ANG MO KIO</td>\n",
       "      <td>1 ROOM</td>\n",
       "      <td>309</td>\n",
       "      <td>ANG MO KIO AVE 1</td>\n",
       "      <td>04 TO 06</td>\n",
       "      <td>31.0</td>\n",
       "      <td>IMPROVED</td>\n",
       "      <td>1977</td>\n",
       "      <td>6000.0</td>\n",
       "      <td>52.0</td>\n",
       "    </tr>\n",
       "    <tr>\n",
       "      <th>2</th>\n",
       "      <td>1990-01</td>\n",
       "      <td>ANG MO KIO</td>\n",
       "      <td>1 ROOM</td>\n",
       "      <td>309</td>\n",
       "      <td>ANG MO KIO AVE 1</td>\n",
       "      <td>10 TO 12</td>\n",
       "      <td>31.0</td>\n",
       "      <td>IMPROVED</td>\n",
       "      <td>1977</td>\n",
       "      <td>8000.0</td>\n",
       "      <td>52.0</td>\n",
       "    </tr>\n",
       "    <tr>\n",
       "      <th>3</th>\n",
       "      <td>1990-01</td>\n",
       "      <td>ANG MO KIO</td>\n",
       "      <td>1 ROOM</td>\n",
       "      <td>309</td>\n",
       "      <td>ANG MO KIO AVE 1</td>\n",
       "      <td>07 TO 09</td>\n",
       "      <td>31.0</td>\n",
       "      <td>IMPROVED</td>\n",
       "      <td>1977</td>\n",
       "      <td>6000.0</td>\n",
       "      <td>52.0</td>\n",
       "    </tr>\n",
       "    <tr>\n",
       "      <th>4</th>\n",
       "      <td>1990-01</td>\n",
       "      <td>ANG MO KIO</td>\n",
       "      <td>3 ROOM</td>\n",
       "      <td>216</td>\n",
       "      <td>ANG MO KIO AVE 1</td>\n",
       "      <td>04 TO 06</td>\n",
       "      <td>73.0</td>\n",
       "      <td>NEW GENERATION</td>\n",
       "      <td>1976</td>\n",
       "      <td>47200.0</td>\n",
       "      <td>51.0</td>\n",
       "    </tr>\n",
       "    <tr>\n",
       "      <th>...</th>\n",
       "      <td>...</td>\n",
       "      <td>...</td>\n",
       "      <td>...</td>\n",
       "      <td>...</td>\n",
       "      <td>...</td>\n",
       "      <td>...</td>\n",
       "      <td>...</td>\n",
       "      <td>...</td>\n",
       "      <td>...</td>\n",
       "      <td>...</td>\n",
       "      <td>...</td>\n",
       "    </tr>\n",
       "    <tr>\n",
       "      <th>930268</th>\n",
       "      <td>2024-07</td>\n",
       "      <td>YISHUN</td>\n",
       "      <td>EXECUTIVE</td>\n",
       "      <td>406</td>\n",
       "      <td>YISHUN AVE 6</td>\n",
       "      <td>10 TO 12</td>\n",
       "      <td>142.0</td>\n",
       "      <td>Apartment</td>\n",
       "      <td>1988</td>\n",
       "      <td>838000.0</td>\n",
       "      <td>63.0</td>\n",
       "    </tr>\n",
       "    <tr>\n",
       "      <th>930269</th>\n",
       "      <td>2024-07</td>\n",
       "      <td>YISHUN</td>\n",
       "      <td>EXECUTIVE</td>\n",
       "      <td>792</td>\n",
       "      <td>YISHUN RING RD</td>\n",
       "      <td>07 TO 09</td>\n",
       "      <td>147.0</td>\n",
       "      <td>Apartment</td>\n",
       "      <td>1987</td>\n",
       "      <td>820000.0</td>\n",
       "      <td>62.0</td>\n",
       "    </tr>\n",
       "    <tr>\n",
       "      <th>930270</th>\n",
       "      <td>2024-07</td>\n",
       "      <td>YISHUN</td>\n",
       "      <td>EXECUTIVE</td>\n",
       "      <td>352</td>\n",
       "      <td>YISHUN RING RD</td>\n",
       "      <td>04 TO 06</td>\n",
       "      <td>146.0</td>\n",
       "      <td>Maisonette</td>\n",
       "      <td>1988</td>\n",
       "      <td>865000.0</td>\n",
       "      <td>63.0</td>\n",
       "    </tr>\n",
       "    <tr>\n",
       "      <th>930271</th>\n",
       "      <td>2024-07</td>\n",
       "      <td>YISHUN</td>\n",
       "      <td>EXECUTIVE</td>\n",
       "      <td>277</td>\n",
       "      <td>YISHUN ST 22</td>\n",
       "      <td>01 TO 03</td>\n",
       "      <td>146.0</td>\n",
       "      <td>Maisonette</td>\n",
       "      <td>1985</td>\n",
       "      <td>770000.0</td>\n",
       "      <td>60.0</td>\n",
       "    </tr>\n",
       "    <tr>\n",
       "      <th>930272</th>\n",
       "      <td>2024-07</td>\n",
       "      <td>YISHUN</td>\n",
       "      <td>EXECUTIVE</td>\n",
       "      <td>277</td>\n",
       "      <td>YISHUN ST 22</td>\n",
       "      <td>04 TO 06</td>\n",
       "      <td>146.0</td>\n",
       "      <td>Maisonette</td>\n",
       "      <td>1985</td>\n",
       "      <td>800000.0</td>\n",
       "      <td>60.0</td>\n",
       "    </tr>\n",
       "  </tbody>\n",
       "</table>\n",
       "<p>930273 rows × 11 columns</p>\n",
       "</div>"
      ],
      "text/plain": [
       "          month        town  flat_type block       street_name storey_range  \\\n",
       "0       1990-01  ANG MO KIO     1 ROOM   309  ANG MO KIO AVE 1     10 TO 12   \n",
       "1       1990-01  ANG MO KIO     1 ROOM   309  ANG MO KIO AVE 1     04 TO 06   \n",
       "2       1990-01  ANG MO KIO     1 ROOM   309  ANG MO KIO AVE 1     10 TO 12   \n",
       "3       1990-01  ANG MO KIO     1 ROOM   309  ANG MO KIO AVE 1     07 TO 09   \n",
       "4       1990-01  ANG MO KIO     3 ROOM   216  ANG MO KIO AVE 1     04 TO 06   \n",
       "...         ...         ...        ...   ...               ...          ...   \n",
       "930268  2024-07      YISHUN  EXECUTIVE   406      YISHUN AVE 6     10 TO 12   \n",
       "930269  2024-07      YISHUN  EXECUTIVE   792    YISHUN RING RD     07 TO 09   \n",
       "930270  2024-07      YISHUN  EXECUTIVE   352    YISHUN RING RD     04 TO 06   \n",
       "930271  2024-07      YISHUN  EXECUTIVE   277      YISHUN ST 22     01 TO 03   \n",
       "930272  2024-07      YISHUN  EXECUTIVE   277      YISHUN ST 22     04 TO 06   \n",
       "\n",
       "        floor_area_sqm      flat_model  lease_commence_date  resale_price  \\\n",
       "0                 31.0        IMPROVED                 1977        9000.0   \n",
       "1                 31.0        IMPROVED                 1977        6000.0   \n",
       "2                 31.0        IMPROVED                 1977        8000.0   \n",
       "3                 31.0        IMPROVED                 1977        6000.0   \n",
       "4                 73.0  NEW GENERATION                 1976       47200.0   \n",
       "...                ...             ...                  ...           ...   \n",
       "930268           142.0       Apartment                 1988      838000.0   \n",
       "930269           147.0       Apartment                 1987      820000.0   \n",
       "930270           146.0      Maisonette                 1988      865000.0   \n",
       "930271           146.0      Maisonette                 1985      770000.0   \n",
       "930272           146.0      Maisonette                 1985      800000.0   \n",
       "\n",
       "        remaining_lease  \n",
       "0                  52.0  \n",
       "1                  52.0  \n",
       "2                  52.0  \n",
       "3                  52.0  \n",
       "4                  51.0  \n",
       "...                 ...  \n",
       "930268             63.0  \n",
       "930269             62.0  \n",
       "930270             63.0  \n",
       "930271             60.0  \n",
       "930272             60.0  \n",
       "\n",
       "[930273 rows x 11 columns]"
      ]
     },
     "execution_count": 24,
     "metadata": {},
     "output_type": "execute_result"
    }
   ],
   "source": [
    "df1"
   ]
  },
  {
   "cell_type": "code",
   "execution_count": 25,
   "id": "6609413c-4e0a-4649-9b07-45ec3f8cb15f",
   "metadata": {},
   "outputs": [],
   "source": [
    "df2 = df1.copy()"
   ]
  },
  {
   "cell_type": "code",
   "execution_count": 26,
   "id": "df5df647-d8a0-4e73-b8bd-12b307efe34d",
   "metadata": {},
   "outputs": [],
   "source": [
    "df2['month'] = pd.to_datetime(df2['month'].astype(str), format='%Y-%m', errors='coerce')\n",
    "# Extract year and month into separate columns\n",
    "df2['Year'] = df2['month'].dt.year\n",
    "df2['Month'] = df2['month'].dt.month"
   ]
  },
  {
   "cell_type": "code",
   "execution_count": 27,
   "id": "2d182339-8aa4-45b2-8c5a-dbb14158f50f",
   "metadata": {},
   "outputs": [],
   "source": [
    "df2.drop('month', axis=1, inplace=True)"
   ]
  },
  {
   "cell_type": "code",
   "execution_count": 28,
   "id": "15101dbc-8498-403f-9d2d-4c09f2cce846",
   "metadata": {},
   "outputs": [
    {
     "data": {
      "text/html": [
       "<div>\n",
       "<style scoped>\n",
       "    .dataframe tbody tr th:only-of-type {\n",
       "        vertical-align: middle;\n",
       "    }\n",
       "\n",
       "    .dataframe tbody tr th {\n",
       "        vertical-align: top;\n",
       "    }\n",
       "\n",
       "    .dataframe thead th {\n",
       "        text-align: right;\n",
       "    }\n",
       "</style>\n",
       "<table border=\"1\" class=\"dataframe\">\n",
       "  <thead>\n",
       "    <tr style=\"text-align: right;\">\n",
       "      <th></th>\n",
       "      <th>town</th>\n",
       "      <th>flat_type</th>\n",
       "      <th>block</th>\n",
       "      <th>street_name</th>\n",
       "      <th>storey_range</th>\n",
       "      <th>floor_area_sqm</th>\n",
       "      <th>flat_model</th>\n",
       "      <th>lease_commence_date</th>\n",
       "      <th>resale_price</th>\n",
       "      <th>remaining_lease</th>\n",
       "      <th>Year</th>\n",
       "      <th>Month</th>\n",
       "    </tr>\n",
       "  </thead>\n",
       "  <tbody>\n",
       "    <tr>\n",
       "      <th>0</th>\n",
       "      <td>ANG MO KIO</td>\n",
       "      <td>1 ROOM</td>\n",
       "      <td>309</td>\n",
       "      <td>ANG MO KIO AVE 1</td>\n",
       "      <td>10 TO 12</td>\n",
       "      <td>31.0</td>\n",
       "      <td>IMPROVED</td>\n",
       "      <td>1977</td>\n",
       "      <td>9000.0</td>\n",
       "      <td>52.0</td>\n",
       "      <td>1990</td>\n",
       "      <td>1</td>\n",
       "    </tr>\n",
       "    <tr>\n",
       "      <th>1</th>\n",
       "      <td>ANG MO KIO</td>\n",
       "      <td>1 ROOM</td>\n",
       "      <td>309</td>\n",
       "      <td>ANG MO KIO AVE 1</td>\n",
       "      <td>04 TO 06</td>\n",
       "      <td>31.0</td>\n",
       "      <td>IMPROVED</td>\n",
       "      <td>1977</td>\n",
       "      <td>6000.0</td>\n",
       "      <td>52.0</td>\n",
       "      <td>1990</td>\n",
       "      <td>1</td>\n",
       "    </tr>\n",
       "    <tr>\n",
       "      <th>2</th>\n",
       "      <td>ANG MO KIO</td>\n",
       "      <td>1 ROOM</td>\n",
       "      <td>309</td>\n",
       "      <td>ANG MO KIO AVE 1</td>\n",
       "      <td>10 TO 12</td>\n",
       "      <td>31.0</td>\n",
       "      <td>IMPROVED</td>\n",
       "      <td>1977</td>\n",
       "      <td>8000.0</td>\n",
       "      <td>52.0</td>\n",
       "      <td>1990</td>\n",
       "      <td>1</td>\n",
       "    </tr>\n",
       "    <tr>\n",
       "      <th>3</th>\n",
       "      <td>ANG MO KIO</td>\n",
       "      <td>1 ROOM</td>\n",
       "      <td>309</td>\n",
       "      <td>ANG MO KIO AVE 1</td>\n",
       "      <td>07 TO 09</td>\n",
       "      <td>31.0</td>\n",
       "      <td>IMPROVED</td>\n",
       "      <td>1977</td>\n",
       "      <td>6000.0</td>\n",
       "      <td>52.0</td>\n",
       "      <td>1990</td>\n",
       "      <td>1</td>\n",
       "    </tr>\n",
       "    <tr>\n",
       "      <th>4</th>\n",
       "      <td>ANG MO KIO</td>\n",
       "      <td>3 ROOM</td>\n",
       "      <td>216</td>\n",
       "      <td>ANG MO KIO AVE 1</td>\n",
       "      <td>04 TO 06</td>\n",
       "      <td>73.0</td>\n",
       "      <td>NEW GENERATION</td>\n",
       "      <td>1976</td>\n",
       "      <td>47200.0</td>\n",
       "      <td>51.0</td>\n",
       "      <td>1990</td>\n",
       "      <td>1</td>\n",
       "    </tr>\n",
       "    <tr>\n",
       "      <th>...</th>\n",
       "      <td>...</td>\n",
       "      <td>...</td>\n",
       "      <td>...</td>\n",
       "      <td>...</td>\n",
       "      <td>...</td>\n",
       "      <td>...</td>\n",
       "      <td>...</td>\n",
       "      <td>...</td>\n",
       "      <td>...</td>\n",
       "      <td>...</td>\n",
       "      <td>...</td>\n",
       "      <td>...</td>\n",
       "    </tr>\n",
       "    <tr>\n",
       "      <th>930268</th>\n",
       "      <td>YISHUN</td>\n",
       "      <td>EXECUTIVE</td>\n",
       "      <td>406</td>\n",
       "      <td>YISHUN AVE 6</td>\n",
       "      <td>10 TO 12</td>\n",
       "      <td>142.0</td>\n",
       "      <td>Apartment</td>\n",
       "      <td>1988</td>\n",
       "      <td>838000.0</td>\n",
       "      <td>63.0</td>\n",
       "      <td>2024</td>\n",
       "      <td>7</td>\n",
       "    </tr>\n",
       "    <tr>\n",
       "      <th>930269</th>\n",
       "      <td>YISHUN</td>\n",
       "      <td>EXECUTIVE</td>\n",
       "      <td>792</td>\n",
       "      <td>YISHUN RING RD</td>\n",
       "      <td>07 TO 09</td>\n",
       "      <td>147.0</td>\n",
       "      <td>Apartment</td>\n",
       "      <td>1987</td>\n",
       "      <td>820000.0</td>\n",
       "      <td>62.0</td>\n",
       "      <td>2024</td>\n",
       "      <td>7</td>\n",
       "    </tr>\n",
       "    <tr>\n",
       "      <th>930270</th>\n",
       "      <td>YISHUN</td>\n",
       "      <td>EXECUTIVE</td>\n",
       "      <td>352</td>\n",
       "      <td>YISHUN RING RD</td>\n",
       "      <td>04 TO 06</td>\n",
       "      <td>146.0</td>\n",
       "      <td>Maisonette</td>\n",
       "      <td>1988</td>\n",
       "      <td>865000.0</td>\n",
       "      <td>63.0</td>\n",
       "      <td>2024</td>\n",
       "      <td>7</td>\n",
       "    </tr>\n",
       "    <tr>\n",
       "      <th>930271</th>\n",
       "      <td>YISHUN</td>\n",
       "      <td>EXECUTIVE</td>\n",
       "      <td>277</td>\n",
       "      <td>YISHUN ST 22</td>\n",
       "      <td>01 TO 03</td>\n",
       "      <td>146.0</td>\n",
       "      <td>Maisonette</td>\n",
       "      <td>1985</td>\n",
       "      <td>770000.0</td>\n",
       "      <td>60.0</td>\n",
       "      <td>2024</td>\n",
       "      <td>7</td>\n",
       "    </tr>\n",
       "    <tr>\n",
       "      <th>930272</th>\n",
       "      <td>YISHUN</td>\n",
       "      <td>EXECUTIVE</td>\n",
       "      <td>277</td>\n",
       "      <td>YISHUN ST 22</td>\n",
       "      <td>04 TO 06</td>\n",
       "      <td>146.0</td>\n",
       "      <td>Maisonette</td>\n",
       "      <td>1985</td>\n",
       "      <td>800000.0</td>\n",
       "      <td>60.0</td>\n",
       "      <td>2024</td>\n",
       "      <td>7</td>\n",
       "    </tr>\n",
       "  </tbody>\n",
       "</table>\n",
       "<p>930273 rows × 12 columns</p>\n",
       "</div>"
      ],
      "text/plain": [
       "              town  flat_type block       street_name storey_range  \\\n",
       "0       ANG MO KIO     1 ROOM   309  ANG MO KIO AVE 1     10 TO 12   \n",
       "1       ANG MO KIO     1 ROOM   309  ANG MO KIO AVE 1     04 TO 06   \n",
       "2       ANG MO KIO     1 ROOM   309  ANG MO KIO AVE 1     10 TO 12   \n",
       "3       ANG MO KIO     1 ROOM   309  ANG MO KIO AVE 1     07 TO 09   \n",
       "4       ANG MO KIO     3 ROOM   216  ANG MO KIO AVE 1     04 TO 06   \n",
       "...            ...        ...   ...               ...          ...   \n",
       "930268      YISHUN  EXECUTIVE   406      YISHUN AVE 6     10 TO 12   \n",
       "930269      YISHUN  EXECUTIVE   792    YISHUN RING RD     07 TO 09   \n",
       "930270      YISHUN  EXECUTIVE   352    YISHUN RING RD     04 TO 06   \n",
       "930271      YISHUN  EXECUTIVE   277      YISHUN ST 22     01 TO 03   \n",
       "930272      YISHUN  EXECUTIVE   277      YISHUN ST 22     04 TO 06   \n",
       "\n",
       "        floor_area_sqm      flat_model  lease_commence_date  resale_price  \\\n",
       "0                 31.0        IMPROVED                 1977        9000.0   \n",
       "1                 31.0        IMPROVED                 1977        6000.0   \n",
       "2                 31.0        IMPROVED                 1977        8000.0   \n",
       "3                 31.0        IMPROVED                 1977        6000.0   \n",
       "4                 73.0  NEW GENERATION                 1976       47200.0   \n",
       "...                ...             ...                  ...           ...   \n",
       "930268           142.0       Apartment                 1988      838000.0   \n",
       "930269           147.0       Apartment                 1987      820000.0   \n",
       "930270           146.0      Maisonette                 1988      865000.0   \n",
       "930271           146.0      Maisonette                 1985      770000.0   \n",
       "930272           146.0      Maisonette                 1985      800000.0   \n",
       "\n",
       "        remaining_lease  Year  Month  \n",
       "0                  52.0  1990      1  \n",
       "1                  52.0  1990      1  \n",
       "2                  52.0  1990      1  \n",
       "3                  52.0  1990      1  \n",
       "4                  51.0  1990      1  \n",
       "...                 ...   ...    ...  \n",
       "930268             63.0  2024      7  \n",
       "930269             62.0  2024      7  \n",
       "930270             63.0  2024      7  \n",
       "930271             60.0  2024      7  \n",
       "930272             60.0  2024      7  \n",
       "\n",
       "[930273 rows x 12 columns]"
      ]
     },
     "execution_count": 28,
     "metadata": {},
     "output_type": "execute_result"
    }
   ],
   "source": [
    "df3 = df2.copy()\n",
    "df3"
   ]
  },
  {
   "cell_type": "code",
   "execution_count": 29,
   "id": "05d48caf-724c-40b2-97e4-afc077c87062",
   "metadata": {},
   "outputs": [
    {
     "data": {
      "text/plain": [
       "array(['ANG MO KIO', 'BEDOK', 'BISHAN', 'BUKIT BATOK', 'BUKIT MERAH',\n",
       "       'BUKIT TIMAH', 'CENTRAL AREA', 'CHOA CHU KANG', 'CLEMENTI',\n",
       "       'GEYLANG', 'HOUGANG', 'JURONG EAST', 'JURONG WEST',\n",
       "       'KALLANG/WHAMPOA', 'MARINE PARADE', 'QUEENSTOWN', 'SENGKANG',\n",
       "       'SERANGOON', 'TAMPINES', 'TOA PAYOH', 'WOODLANDS', 'YISHUN',\n",
       "       'LIM CHU KANG', 'SEMBAWANG', 'BUKIT PANJANG', 'PASIR RIS',\n",
       "       'PUNGGOL'], dtype=object)"
      ]
     },
     "execution_count": 29,
     "metadata": {},
     "output_type": "execute_result"
    }
   ],
   "source": [
    "df3['town'].unique()"
   ]
  },
  {
   "cell_type": "code",
   "execution_count": 30,
   "id": "7edfbe4f-7633-448b-9cd9-fcef2a1d84e8",
   "metadata": {},
   "outputs": [
    {
     "name": "stderr",
     "output_type": "stream",
     "text": [
      "C:\\Users\\91916\\AppData\\Local\\Temp\\ipykernel_19932\\904822227.py:8: FutureWarning: Downcasting behavior in `replace` is deprecated and will be removed in a future version. To retain the old behavior, explicitly call `result.infer_objects(copy=False)`. To opt-in to the future behavior, set `pd.set_option('future.no_silent_downcasting', True)`\n",
      "  df3.replace({'town': mapping}, inplace=True)\n"
     ]
    }
   ],
   "source": [
    "mapping = {'ANG MO KIO':0, 'BEDOK':1, 'BISHAN':2, 'BUKIT BATOK':3, 'BUKIT MERAH':4,\n",
    "       'BUKIT TIMAH':5, 'CENTRAL AREA':6, 'CHOA CHU KANG':7, 'CLEMENTI':8,\n",
    "       'GEYLANG':9, 'HOUGANG':10, 'JURONG EAST':11, 'JURONG WEST':12,\n",
    "       'KALLANG/WHAMPOA':13, 'MARINE PARADE':14, 'QUEENSTOWN':15, 'SENGKANG':16,\n",
    "       'SERANGOON':17, 'TAMPINES':18, 'TOA PAYOH':19, 'WOODLANDS':20, 'YISHUN':21,\n",
    "       'LIM CHU KANG':22, 'SEMBAWANG':23, 'BUKIT PANJANG':24, 'PASIR RIS':25,\n",
    "       'PUNGGOL':26}\n",
    "df3.replace({'town': mapping}, inplace=True)"
   ]
  },
  {
   "cell_type": "code",
   "execution_count": 31,
   "id": "59bf3b91-8d48-4ee1-8a5e-deb70002a551",
   "metadata": {},
   "outputs": [
    {
     "data": {
      "text/plain": [
       "array([ 0,  1,  2,  3,  4,  5,  6,  7,  8,  9, 10, 11, 12, 13, 14, 15, 16,\n",
       "       17, 18, 19, 20, 21, 22, 23, 24, 25, 26], dtype=int64)"
      ]
     },
     "execution_count": 31,
     "metadata": {},
     "output_type": "execute_result"
    }
   ],
   "source": [
    "df3['town'].unique()"
   ]
  },
  {
   "cell_type": "code",
   "execution_count": 32,
   "id": "b34382d7-5d49-42d6-b74a-42b231f77f90",
   "metadata": {},
   "outputs": [
    {
     "data": {
      "text/plain": [
       "array(['1 ROOM', '3 ROOM', '4 ROOM', '5 ROOM', '2 ROOM', 'EXECUTIVE',\n",
       "       'MULTI GENERATION', 'MULTI-GENERATION'], dtype=object)"
      ]
     },
     "execution_count": 32,
     "metadata": {},
     "output_type": "execute_result"
    }
   ],
   "source": [
    "df3['flat_type'].unique()"
   ]
  },
  {
   "cell_type": "code",
   "execution_count": 33,
   "id": "5c175158-7285-41e7-8cec-a82cc7e1ca3a",
   "metadata": {},
   "outputs": [
    {
     "name": "stderr",
     "output_type": "stream",
     "text": [
      "C:\\Users\\91916\\AppData\\Local\\Temp\\ipykernel_19932\\947053539.py:3: FutureWarning: Downcasting behavior in `replace` is deprecated and will be removed in a future version. To retain the old behavior, explicitly call `result.infer_objects(copy=False)`. To opt-in to the future behavior, set `pd.set_option('future.no_silent_downcasting', True)`\n",
      "  df3.replace({'flat_type': mapping_1}, inplace=True)\n"
     ]
    }
   ],
   "source": [
    "mapping_1 = {'1 ROOM':0, '3 ROOM':1, '4 ROOM':2, '5 ROOM':3, '2 ROOM':4, 'EXECUTIVE':5,\n",
    "       'MULTI GENERATION':6, 'MULTI-GENERATION':7}\n",
    "df3.replace({'flat_type': mapping_1}, inplace=True)"
   ]
  },
  {
   "cell_type": "code",
   "execution_count": 34,
   "id": "c1e50775-d6cc-4365-a61d-596524c86d59",
   "metadata": {},
   "outputs": [
    {
     "data": {
      "text/plain": [
       "array([0, 1, 2, 3, 4, 5, 6, 7], dtype=int64)"
      ]
     },
     "execution_count": 34,
     "metadata": {},
     "output_type": "execute_result"
    }
   ],
   "source": [
    "df3['flat_type'].unique()"
   ]
  },
  {
   "cell_type": "code",
   "execution_count": 35,
   "id": "df428b42-bf10-41e9-8b4f-d87c8bceec1c",
   "metadata": {},
   "outputs": [
    {
     "data": {
      "text/plain": [
       "array(['10 TO 12', '04 TO 06', '07 TO 09', '01 TO 03', '13 TO 15',\n",
       "       '19 TO 21', '16 TO 18', '25 TO 27', '22 TO 24', '28 TO 30',\n",
       "       '31 TO 33', '40 TO 42', '37 TO 39', '34 TO 36', '06 TO 10',\n",
       "       '01 TO 05', '11 TO 15', '16 TO 20', '21 TO 25', '26 TO 30',\n",
       "       '36 TO 40', '31 TO 35', '46 TO 48', '43 TO 45', '49 TO 51'],\n",
       "      dtype=object)"
      ]
     },
     "execution_count": 35,
     "metadata": {},
     "output_type": "execute_result"
    }
   ],
   "source": [
    "df3['storey_range'].unique()"
   ]
  },
  {
   "cell_type": "code",
   "execution_count": 36,
   "id": "09556882-2b9b-4be8-9f64-3f64e29aea18",
   "metadata": {},
   "outputs": [
    {
     "name": "stderr",
     "output_type": "stream",
     "text": [
      "C:\\Users\\91916\\AppData\\Local\\Temp\\ipykernel_19932\\3578740229.py:6: FutureWarning: Downcasting behavior in `replace` is deprecated and will be removed in a future version. To retain the old behavior, explicitly call `result.infer_objects(copy=False)`. To opt-in to the future behavior, set `pd.set_option('future.no_silent_downcasting', True)`\n",
      "  df3.replace({'storey_range': mapping_2}, inplace=True)\n"
     ]
    }
   ],
   "source": [
    "mapping_2 = {'10 TO 12':0, '04 TO 06':1, '07 TO 09':2, '01 TO 03':3, '13 TO 15':4,\n",
    "       '19 TO 21':5, '16 TO 18':6, '25 TO 27':7, '22 TO 24':8, '28 TO 30':9,\n",
    "       '31 TO 33':10, '40 TO 42':11, '37 TO 39':12, '34 TO 36':13, '06 TO 10':14,\n",
    "       '01 TO 05':15, '11 TO 15':16, '16 TO 20':17, '21 TO 25':18, '26 TO 30':19,\n",
    "       '36 TO 40':20, '31 TO 35':21, '46 TO 48':22, '43 TO 45':23, '49 TO 51':24}\n",
    "df3.replace({'storey_range': mapping_2}, inplace=True)"
   ]
  },
  {
   "cell_type": "code",
   "execution_count": 37,
   "id": "70274d54-aadd-4d97-8940-d738b299978a",
   "metadata": {},
   "outputs": [
    {
     "data": {
      "text/plain": [
       "array([ 0,  1,  2,  3,  4,  5,  6,  7,  8,  9, 10, 11, 12, 13, 14, 15, 16,\n",
       "       17, 18, 19, 20, 21, 22, 23, 24], dtype=int64)"
      ]
     },
     "execution_count": 37,
     "metadata": {},
     "output_type": "execute_result"
    }
   ],
   "source": [
    "df3['storey_range'].unique()"
   ]
  },
  {
   "cell_type": "code",
   "execution_count": 38,
   "id": "656fdc4f-f94e-4199-b01d-8bf4619c5d9c",
   "metadata": {},
   "outputs": [
    {
     "data": {
      "text/plain": [
       "array(['IMPROVED', 'NEW GENERATION', 'MODEL A', 'STANDARD', 'SIMPLIFIED',\n",
       "       'MODEL A-MAISONETTE', 'APARTMENT', 'MAISONETTE', 'TERRACE',\n",
       "       '2-ROOM', 'IMPROVED-MAISONETTE', 'MULTI GENERATION',\n",
       "       'PREMIUM APARTMENT', 'Improved', 'New Generation', 'Model A',\n",
       "       'Standard', 'Apartment', 'Simplified', 'Model A-Maisonette',\n",
       "       'Maisonette', 'Multi Generation', 'Adjoined flat',\n",
       "       'Premium Apartment', 'Terrace', 'Improved-Maisonette',\n",
       "       'Premium Maisonette', '2-room', 'Model A2', 'DBSS', 'Type S1',\n",
       "       'Type S2', 'Premium Apartment Loft', '3Gen'], dtype=object)"
      ]
     },
     "execution_count": 38,
     "metadata": {},
     "output_type": "execute_result"
    }
   ],
   "source": [
    "df3['flat_model'].unique()"
   ]
  },
  {
   "cell_type": "code",
   "execution_count": 39,
   "id": "1ecd3464-9ea6-4843-ab90-e282f059d8ca",
   "metadata": {},
   "outputs": [],
   "source": [
    "df3['flat_model'] = df3['flat_model'].str.upper()"
   ]
  },
  {
   "cell_type": "code",
   "execution_count": 40,
   "id": "1d23b56e-7bb9-4141-be0b-6c9b1b76c275",
   "metadata": {},
   "outputs": [
    {
     "data": {
      "text/plain": [
       "array(['IMPROVED', 'NEW GENERATION', 'MODEL A', 'STANDARD', 'SIMPLIFIED',\n",
       "       'MODEL A-MAISONETTE', 'APARTMENT', 'MAISONETTE', 'TERRACE',\n",
       "       '2-ROOM', 'IMPROVED-MAISONETTE', 'MULTI GENERATION',\n",
       "       'PREMIUM APARTMENT', 'ADJOINED FLAT', 'PREMIUM MAISONETTE',\n",
       "       'MODEL A2', 'DBSS', 'TYPE S1', 'TYPE S2', 'PREMIUM APARTMENT LOFT',\n",
       "       '3GEN'], dtype=object)"
      ]
     },
     "execution_count": 40,
     "metadata": {},
     "output_type": "execute_result"
    }
   ],
   "source": [
    "df3['flat_model'].unique()"
   ]
  },
  {
   "cell_type": "code",
   "execution_count": 41,
   "id": "d890010a-d6ab-408d-85fe-78dd27cd184e",
   "metadata": {},
   "outputs": [
    {
     "name": "stderr",
     "output_type": "stream",
     "text": [
      "C:\\Users\\91916\\AppData\\Local\\Temp\\ipykernel_19932\\705232626.py:7: FutureWarning: Downcasting behavior in `replace` is deprecated and will be removed in a future version. To retain the old behavior, explicitly call `result.infer_objects(copy=False)`. To opt-in to the future behavior, set `pd.set_option('future.no_silent_downcasting', True)`\n",
      "  df3.replace({'flat_model': mapping_3}, inplace=True)\n"
     ]
    }
   ],
   "source": [
    "mapping_3 = {'IMPROVED':0 , 'NEW GENERATION':1, 'MODEL A':2, 'STANDARD':3, 'SIMPLIFIED':4,\n",
    "       'MODEL A-MAISONETTE':5, 'APARTMENT':6, 'MAISONETTE':7, 'TERRACE':8,\n",
    "       '2-ROOM':9, 'IMPROVED-MAISONETTE':10, 'MULTI GENERATION':11,\n",
    "       'PREMIUM APARTMENT':12, 'ADJOINED FLAT':13, 'PREMIUM MAISONETTE':14,\n",
    "       'MODEL A2':15, 'DBSS':16, 'TYPE S1':17, 'TYPE S2':18, 'PREMIUM APARTMENT LOFT':19,\n",
    "       '3GEN':20}\n",
    "df3.replace({'flat_model': mapping_3}, inplace=True)"
   ]
  },
  {
   "cell_type": "code",
   "execution_count": 42,
   "id": "5ee23994-84cd-495e-b13e-56482d80bb62",
   "metadata": {},
   "outputs": [
    {
     "data": {
      "text/plain": [
       "array([ 0,  1,  2,  3,  4,  5,  6,  7,  8,  9, 10, 11, 12, 13, 14, 15, 16,\n",
       "       17, 18, 19, 20], dtype=int64)"
      ]
     },
     "execution_count": 42,
     "metadata": {},
     "output_type": "execute_result"
    }
   ],
   "source": [
    "df3['flat_model'].unique()"
   ]
  },
  {
   "cell_type": "code",
   "execution_count": 43,
   "id": "d7771a3b-22d0-4075-bd40-7da8e2661ee3",
   "metadata": {},
   "outputs": [
    {
     "name": "stdout",
     "output_type": "stream",
     "text": [
      "<class 'pandas.core.frame.DataFrame'>\n",
      "RangeIndex: 930273 entries, 0 to 930272\n",
      "Data columns (total 12 columns):\n",
      " #   Column               Non-Null Count   Dtype  \n",
      "---  ------               --------------   -----  \n",
      " 0   town                 930273 non-null  int64  \n",
      " 1   flat_type            930273 non-null  int64  \n",
      " 2   block                930273 non-null  object \n",
      " 3   street_name          930273 non-null  object \n",
      " 4   storey_range         930273 non-null  int64  \n",
      " 5   floor_area_sqm       930273 non-null  float64\n",
      " 6   flat_model           930273 non-null  int64  \n",
      " 7   lease_commence_date  930273 non-null  int64  \n",
      " 8   resale_price         930273 non-null  float64\n",
      " 9   remaining_lease      930273 non-null  float64\n",
      " 10  Year                 930273 non-null  int32  \n",
      " 11  Month                930273 non-null  int32  \n",
      "dtypes: float64(3), int32(2), int64(5), object(2)\n",
      "memory usage: 78.1+ MB\n"
     ]
    }
   ],
   "source": [
    "df3.info()"
   ]
  },
  {
   "cell_type": "code",
   "execution_count": 44,
   "id": "190ba0e1-8312-48ab-add2-f4ff7d5276d0",
   "metadata": {},
   "outputs": [],
   "source": [
    "df4 = df3.copy()"
   ]
  },
  {
   "cell_type": "code",
   "execution_count": 45,
   "id": "ab187218-c4dd-443b-a9da-ea70b93b42a2",
   "metadata": {},
   "outputs": [
    {
     "data": {
      "text/plain": [
       "array(['309', '216', '211', ..., '240A', '460D', '83A'], dtype=object)"
      ]
     },
     "execution_count": 45,
     "metadata": {},
     "output_type": "execute_result"
    }
   ],
   "source": [
    "df4['block'].unique()"
   ]
  },
  {
   "cell_type": "code",
   "execution_count": 46,
   "id": "8c1fe154-5959-46dd-828b-becfedaacacb",
   "metadata": {},
   "outputs": [],
   "source": [
    "# Create a dictionary to map categories to numeric labels\n",
    "category_mapping = {category: index for index, category in enumerate(df4['block'].unique())}\n",
    "\n",
    "# Apply the mapping to the 'Category' column\n",
    "df4['block'] = df4['block'].map(category_mapping)"
   ]
  },
  {
   "cell_type": "code",
   "execution_count": 47,
   "id": "c5ad61c0-f846-4144-bd1d-9e24016ca877",
   "metadata": {},
   "outputs": [
    {
     "data": {
      "text/plain": [
       "array([   0,    1,    2, ..., 2709, 2710, 2711], dtype=int64)"
      ]
     },
     "execution_count": 47,
     "metadata": {},
     "output_type": "execute_result"
    }
   ],
   "source": [
    "df4['block'].unique()"
   ]
  },
  {
   "cell_type": "code",
   "execution_count": 48,
   "id": "ccea7e10-1fb0-479b-96a1-509a96d67393",
   "metadata": {},
   "outputs": [
    {
     "data": {
      "text/plain": [
       "array(['ANG MO KIO AVE 1', 'ANG MO KIO AVE 3', 'ANG MO KIO AVE 4',\n",
       "       'ANG MO KIO AVE 10', 'ANG MO KIO AVE 5', 'ANG MO KIO AVE 8',\n",
       "       'ANG MO KIO AVE 6', 'ANG MO KIO AVE 9', 'ANG MO KIO AVE 2',\n",
       "       'BEDOK RESERVOIR RD', 'BEDOK NTH ST 3', 'BEDOK STH RD',\n",
       "       'NEW UPP CHANGI RD', 'BEDOK NTH RD', 'BEDOK STH AVE 1',\n",
       "       'CHAI CHEE RD', 'CHAI CHEE DR', 'BEDOK NTH AVE 4',\n",
       "       'BEDOK STH AVE 3', 'BEDOK STH AVE 2', 'BEDOK NTH ST 2',\n",
       "       'BEDOK NTH ST 4', 'BEDOK NTH AVE 2', 'BEDOK NTH AVE 3',\n",
       "       'BEDOK NTH AVE 1', 'BEDOK NTH ST 1', 'CHAI CHEE ST', 'SIN MING RD',\n",
       "       'SHUNFU RD', 'BT BATOK ST 11', 'BT BATOK WEST AVE 8',\n",
       "       'BT BATOK WEST AVE 6', 'BT BATOK ST 21', 'BT BATOK EAST AVE 5',\n",
       "       'BT BATOK EAST AVE 4', 'HILLVIEW AVE', 'BT BATOK CTRL',\n",
       "       'BT BATOK ST 31', 'BT BATOK EAST AVE 3', 'TAMAN HO SWEE',\n",
       "       'TELOK BLANGAH CRES', 'BEO CRES', 'TELOK BLANGAH DR', 'DEPOT RD',\n",
       "       'TELOK BLANGAH RISE', 'JLN BT MERAH', 'HENDERSON RD', 'INDUS RD',\n",
       "       'BT MERAH VIEW', 'HENDERSON CRES', 'BT PURMEI RD',\n",
       "       'TELOK BLANGAH HTS', 'EVERTON PK', 'KG BAHRU HILL', 'REDHILL CL',\n",
       "       'HOY FATT RD', 'HAVELOCK RD', 'JLN KLINIK', 'JLN RUMAH TINGGI',\n",
       "       'JLN BT HO SWEE', 'KIM CHENG ST', 'MOH GUAN TER',\n",
       "       'TELOK BLANGAH WAY', 'KIM TIAN RD', 'KIM TIAN PL', 'EMPRESS RD',\n",
       "       \"QUEEN'S RD\", 'FARRER RD', 'JLN KUKOH', 'OUTRAM PK', 'SHORT ST',\n",
       "       'SELEGIE RD', 'UPP CROSS ST', 'WATERLOO ST', 'QUEEN ST',\n",
       "       'BUFFALO RD', 'ROWELL RD', 'ROCHOR RD', 'BAIN ST', 'SMITH ST',\n",
       "       'VEERASAMY RD', 'TECK WHYE AVE', 'TECK WHYE LANE',\n",
       "       'CLEMENTI AVE 3', 'WEST COAST DR', 'CLEMENTI AVE 2',\n",
       "       'CLEMENTI AVE 5', 'CLEMENTI AVE 4', 'CLEMENTI AVE 1',\n",
       "       'WEST COAST RD', 'CLEMENTI WEST ST 1', 'CLEMENTI WEST ST 2',\n",
       "       'CLEMENTI ST 13', \"C'WEALTH AVE WEST\", 'CLEMENTI AVE 6',\n",
       "       'CLEMENTI ST 14', 'CIRCUIT RD', 'MACPHERSON LANE',\n",
       "       'JLN PASAR BARU', 'GEYLANG SERAI', 'EUNOS CRES', 'SIMS DR',\n",
       "       'ALJUNIED CRES', 'GEYLANG EAST AVE 1', 'DAKOTA CRES', 'PINE CL',\n",
       "       'HAIG RD', 'BALAM RD', 'JLN DUA', 'GEYLANG EAST CTRL',\n",
       "       'EUNOS RD 5', 'HOUGANG AVE 3', 'HOUGANG AVE 5', 'HOUGANG AVE 1',\n",
       "       'HOUGANG ST 22', 'HOUGANG AVE 10', 'LOR AH SOO', 'HOUGANG ST 11',\n",
       "       'HOUGANG AVE 7', 'HOUGANG ST 21', 'TEBAN GDNS RD',\n",
       "       'JURONG EAST AVE 1', 'JURONG EAST ST 32', 'JURONG EAST ST 13',\n",
       "       'JURONG EAST ST 21', 'JURONG EAST ST 24', 'JURONG EAST ST 31',\n",
       "       'PANDAN GDNS', 'YUNG KUANG RD', 'HO CHING RD', 'HU CHING RD',\n",
       "       'BOON LAY DR', 'BOON LAY AVE', 'BOON LAY PL', 'JURONG WEST ST 52',\n",
       "       'JURONG WEST ST 41', 'JURONG WEST AVE 1', 'JURONG WEST ST 42',\n",
       "       'JLN BATU', \"ST. GEORGE'S RD\", 'NTH BRIDGE RD', 'FRENCH RD',\n",
       "       'BEACH RD', 'WHAMPOA DR', 'UPP BOON KENG RD', 'BENDEMEER RD',\n",
       "       'WHAMPOA WEST', 'LOR LIMAU', 'KALLANG BAHRU', 'GEYLANG BAHRU',\n",
       "       'DORSET RD', 'OWEN RD', 'KG ARANG RD', 'JLN BAHAGIA',\n",
       "       'MOULMEIN RD', 'TOWNER RD', 'JLN RAJAH', 'KENT RD', 'AH HOOD RD',\n",
       "       \"KING GEORGE'S AVE\", 'CRAWFORD LANE', 'MARINE CRES', 'MARINE DR',\n",
       "       'MARINE TER', \"C'WEALTH CL\", \"C'WEALTH DR\", 'TANGLIN HALT RD',\n",
       "       \"C'WEALTH CRES\", 'DOVER RD', 'MARGARET DR', 'GHIM MOH RD',\n",
       "       'DOVER CRES', 'STIRLING RD', 'MEI LING ST', 'HOLLAND CL',\n",
       "       'HOLLAND AVE', 'HOLLAND DR', 'DOVER CL EAST',\n",
       "       'SELETAR WEST FARMWAY 6', 'LOR LEW LIAN', 'SERANGOON NTH AVE 1',\n",
       "       'SERANGOON AVE 2', 'SERANGOON AVE 4', 'SERANGOON CTRL',\n",
       "       'TAMPINES ST 11', 'TAMPINES ST 21', 'TAMPINES ST 91',\n",
       "       'TAMPINES ST 81', 'TAMPINES AVE 4', 'TAMPINES ST 22',\n",
       "       'TAMPINES ST 12', 'TAMPINES ST 23', 'TAMPINES ST 24',\n",
       "       'TAMPINES ST 41', 'TAMPINES ST 82', 'TAMPINES ST 83',\n",
       "       'TAMPINES AVE 5', 'LOR 2 TOA PAYOH', 'LOR 8 TOA PAYOH',\n",
       "       'LOR 1 TOA PAYOH', 'LOR 5 TOA PAYOH', 'LOR 3 TOA PAYOH',\n",
       "       'LOR 7 TOA PAYOH', 'TOA PAYOH EAST', 'LOR 4 TOA PAYOH',\n",
       "       'TOA PAYOH CTRL', 'TOA PAYOH NTH', 'POTONG PASIR AVE 3',\n",
       "       'POTONG PASIR AVE 1', 'UPP ALJUNIED LANE', 'JOO SENG RD',\n",
       "       'MARSILING LANE', 'MARSILING DR', 'MARSILING RISE',\n",
       "       'MARSILING CRES', 'WOODLANDS CTR RD', 'WOODLANDS ST 13',\n",
       "       'WOODLANDS ST 11', 'YISHUN RING RD', 'YISHUN AVE 5',\n",
       "       'YISHUN ST 72', 'YISHUN ST 11', 'YISHUN ST 21', 'YISHUN ST 22',\n",
       "       'YISHUN AVE 3', 'CHAI CHEE AVE', 'ZION RD', 'LENGKOK BAHRU',\n",
       "       'SPOTTISWOODE PK RD', 'NEW MKT RD', 'TG PAGAR PLAZA',\n",
       "       'KELANTAN RD', 'PAYA LEBAR WAY', 'UBI AVE 1', 'SIMS AVE',\n",
       "       'YUNG PING RD', 'TAO CHING RD', 'GLOUCESTER RD', 'BOON KENG RD',\n",
       "       'WHAMPOA STH', 'CAMBRIDGE RD', 'TAMPINES ST 42', 'LOR 6 TOA PAYOH',\n",
       "       'KIM KEAT AVE', 'YISHUN AVE 6', 'YISHUN AVE 9', 'YISHUN ST 71',\n",
       "       'BT BATOK ST 32', 'SILAT AVE', 'TIONG BAHRU RD', 'SAGO LANE',\n",
       "       \"ST. GEORGE'S LANE\", 'LIM CHU KANG RD', \"C'WEALTH AVE\",\n",
       "       \"QUEEN'S CL\", 'SERANGOON AVE 3', 'POTONG PASIR AVE 2',\n",
       "       'WOODLANDS AVE 1', 'YISHUN AVE 4', 'LOWER DELTA RD', 'NILE RD',\n",
       "       'JLN MEMBINA BARAT', 'JLN BERSEH', 'CHANDER RD', 'CASSIA CRES',\n",
       "       'OLD AIRPORT RD', 'ALJUNIED RD', 'BUANGKOK STH FARMWAY 1',\n",
       "       'BT BATOK ST 33', 'ALEXANDRA RD', 'CHIN SWEE RD', 'SIMS PL',\n",
       "       'HOUGANG AVE 2', 'HOUGANG AVE 8', 'SEMBAWANG RD', 'SIMEI ST 1',\n",
       "       'BT BATOK ST 34', 'BT MERAH CTRL', 'LIM LIAK ST', 'JLN TENTERAM',\n",
       "       'WOODLANDS ST 32', 'SIN MING AVE', 'BT BATOK ST 52', 'DELTA AVE',\n",
       "       'PIPIT RD', 'HOUGANG AVE 4', 'QUEENSWAY', 'YISHUN ST 61',\n",
       "       'BISHAN ST 12', \"JLN MA'MOR\", 'TAMPINES ST 44', 'TAMPINES ST 43',\n",
       "       'BISHAN ST 13', 'JLN DUSUN', 'YISHUN AVE 2', 'JOO CHIAT RD',\n",
       "       'EAST COAST RD', 'REDHILL RD', 'KIM PONG RD', 'RACE COURSE RD',\n",
       "       'KRETA AYER RD', 'HOUGANG ST 61', 'TESSENSOHN RD', 'MARSILING RD',\n",
       "       'YISHUN ST 81', 'BT BATOK ST 51', 'BT BATOK WEST AVE 4',\n",
       "       'BT BATOK WEST AVE 2', 'JURONG WEST ST 91', 'JURONG WEST ST 81',\n",
       "       'GANGSA RD', 'MCNAIR RD', 'SIMEI ST 4', 'YISHUN AVE 7',\n",
       "       'SERANGOON NTH AVE 2', 'YISHUN AVE 11', 'BANGKIT RD',\n",
       "       'JURONG WEST ST 73', 'OUTRAM HILL', 'HOUGANG AVE 6',\n",
       "       'PASIR RIS ST 12', 'PENDING RD', 'PETIR RD', 'LOR 3 GEYLANG',\n",
       "       'BISHAN ST 11', 'PASIR RIS DR 6', 'BISHAN ST 23',\n",
       "       'JURONG WEST ST 92', 'PASIR RIS ST 11', 'YISHUN CTRL',\n",
       "       'BISHAN ST 22', 'SIMEI RD', 'TAMPINES ST 84', 'BT PANJANG RING RD',\n",
       "       'JURONG WEST ST 93', 'FAJAR RD', 'WOODLANDS ST 81',\n",
       "       'CHOA CHU KANG CTRL', 'PASIR RIS ST 51', 'HOUGANG ST 52',\n",
       "       'CASHEW RD', 'TOH YI DR', 'HOUGANG CTRL', 'KG KAYU RD',\n",
       "       'TAMPINES AVE 8', 'TAMPINES ST 45', 'SIMEI ST 2',\n",
       "       'WOODLANDS AVE 3', 'LENGKONG TIGA', 'WOODLANDS ST 82',\n",
       "       'SERANGOON NTH AVE 4', 'SERANGOON CTRL DR', 'BRIGHT HILL DR',\n",
       "       'SAUJANA RD', 'CHOA CHU KANG AVE 3', 'TAMPINES AVE 9',\n",
       "       'JURONG WEST ST 51', 'YUNG HO RD', 'SERANGOON AVE 1',\n",
       "       'PASIR RIS ST 41', 'GEYLANG EAST AVE 2', 'CHOA CHU KANG AVE 2',\n",
       "       'KIM KEAT LINK', 'PASIR RIS DR 4', 'PASIR RIS ST 21',\n",
       "       'SENG POH RD', 'HOUGANG ST 51', 'JURONG WEST ST 72',\n",
       "       'JURONG WEST ST 71', 'PASIR RIS ST 52', 'TAMPINES ST 32',\n",
       "       'CHOA CHU KANG AVE 4', 'CHOA CHU KANG LOOP', 'JLN TENAGA',\n",
       "       'TAMPINES CTRL 1', 'TAMPINES ST 33', 'BT BATOK WEST AVE 7',\n",
       "       'JURONG WEST AVE 5', 'TAMPINES AVE 7', 'WOODLANDS ST 83',\n",
       "       'CHOA CHU KANG ST 51', 'PASIR RIS DR 3', 'YISHUN CTRL 1',\n",
       "       'CHOA CHU KANG AVE 1', 'WOODLANDS ST 31', 'BT MERAH LANE 1',\n",
       "       'PASIR RIS ST 13', 'ELIAS RD', 'BISHAN ST 24', 'WHAMPOA RD',\n",
       "       'WOODLANDS ST 41', 'PASIR RIS ST 71', 'JURONG WEST ST 74',\n",
       "       'PASIR RIS DR 1', 'PASIR RIS ST 72', 'PASIR RIS DR 10',\n",
       "       'CHOA CHU KANG ST 52', 'CLARENCE LANE', 'CHOA CHU KANG NTH 6',\n",
       "       'PASIR RIS ST 53', 'CHOA CHU KANG NTH 5', 'ANG MO KIO ST 21',\n",
       "       'JLN DAMAI', 'CHOA CHU KANG ST 62', 'WOODLANDS AVE 5',\n",
       "       'WOODLANDS DR 50', 'CHOA CHU KANG ST 53', 'TAMPINES ST 72',\n",
       "       'UPP SERANGOON RD', 'JURONG WEST ST 75', 'STRATHMORE AVE',\n",
       "       'ANG MO KIO ST 31', 'TAMPINES ST 34', 'YUNG AN RD',\n",
       "       'WOODLANDS AVE 4', 'CHOA CHU KANG NTH 7', 'ANG MO KIO ST 11',\n",
       "       'WOODLANDS AVE 9', 'YUNG LOH RD', 'CHOA CHU KANG DR',\n",
       "       'CHOA CHU KANG ST 54', 'REDHILL LANE', 'KANG CHING RD',\n",
       "       'TAH CHING RD', 'SIMEI ST 5', 'WOODLANDS DR 40', 'WOODLANDS DR 70',\n",
       "       'TAMPINES ST 71', 'WOODLANDS DR 42', 'SERANGOON NTH AVE 3',\n",
       "       'JELAPANG RD', 'BT BATOK ST 22', 'HOUGANG ST 91',\n",
       "       'WOODLANDS AVE 6', 'WOODLANDS CIRCLE', 'CORPORATION DR',\n",
       "       'LOMPANG RD', 'WOODLANDS DR 72', 'CHOA CHU KANG ST 64',\n",
       "       'BT BATOK ST 24', 'JLN TECK WHYE', 'WOODLANDS CRES',\n",
       "       'WOODLANDS DR 60', 'CHANGI VILLAGE RD', 'BT BATOK ST 25',\n",
       "       'HOUGANG AVE 9', 'JURONG WEST CTRL 1', 'WOODLANDS RING RD',\n",
       "       'CHOA CHU KANG AVE 5', 'TOH GUAN RD', 'JURONG WEST ST 61',\n",
       "       'WOODLANDS DR 14', 'HOUGANG ST 92', 'CHOA CHU KANG CRES',\n",
       "       'SEMBAWANG CL', 'CANBERRA RD', 'SEMBAWANG CRES', 'SEMBAWANG VISTA',\n",
       "       'COMPASSVALE WALK', 'RIVERVALE ST', 'WOODLANDS DR 62',\n",
       "       'SEMBAWANG DR', 'WOODLANDS DR 53', 'WOODLANDS DR 52',\n",
       "       'RIVERVALE WALK', 'COMPASSVALE LANE', 'RIVERVALE DR', 'SENJA RD',\n",
       "       'JURONG WEST ST 65', 'RIVERVALE CRES', 'WOODLANDS DR 44',\n",
       "       'COMPASSVALE DR', 'WOODLANDS DR 16', 'COMPASSVALE RD',\n",
       "       'WOODLANDS DR 73', 'HOUGANG ST 31', 'JURONG WEST ST 64',\n",
       "       'WOODLANDS DR 71', 'YISHUN ST 20', 'ADMIRALTY DR',\n",
       "       'COMPASSVALE ST', 'BEDOK RESERVOIR VIEW', 'YUNG SHENG RD',\n",
       "       'ADMIRALTY LINK', 'SENGKANG EAST WAY', 'ANG MO KIO ST 32',\n",
       "       'ANG MO KIO ST 52', 'BOON TIONG RD', 'JURONG WEST ST 62',\n",
       "       'ANCHORVALE LINK', 'CANBERRA LINK', 'COMPASSVALE CRES',\n",
       "       'CLEMENTI ST 12', 'MONTREAL DR', 'WELLINGTON CIRCLE',\n",
       "       'SENGKANG EAST RD', 'JURONG WEST AVE 3', 'ANCHORVALE LANE',\n",
       "       'SENJA LINK', 'EDGEFIELD PLAINS', 'ANCHORVALE DR', 'SEGAR RD',\n",
       "       'FARRER PK RD', 'PUNGGOL FIELD', 'EDGEDALE PLAINS',\n",
       "       'ANCHORVALE RD', 'CANTONMENT CL', 'JLN MEMBINA', 'FERNVALE LANE',\n",
       "       'JURONG WEST ST 25', 'CLEMENTI ST 11', 'PUNGGOL FIELD WALK',\n",
       "       'KLANG LANE', 'PUNGGOL CTRL', 'JELEBU RD', 'BUANGKOK CRES',\n",
       "       'WOODLANDS DR 75', 'BT BATOK WEST AVE 5', 'JELLICOE RD',\n",
       "       'PUNGGOL DR', 'JURONG WEST ST 24', 'SEMBAWANG WAY', 'FERNVALE RD',\n",
       "       'BUANGKOK LINK', 'FERNVALE LINK', 'JLN TIGA', 'YUAN CHING RD',\n",
       "       'COMPASSVALE LINK', 'MARINE PARADE CTRL', 'COMPASSVALE BOW',\n",
       "       'PUNGGOL RD', 'BEDOK CTRL', 'PUNGGOL EAST', 'SENGKANG CTRL',\n",
       "       'TAMPINES CTRL 7', 'SENGKANG WEST AVE', 'PUNGGOL PL',\n",
       "       'CANTONMENT RD', 'GHIM MOH LINK', 'SIMEI LANE', 'YISHUN ST 41',\n",
       "       'TELOK BLANGAH ST 31', 'JLN KAYU', 'LOR 1A TOA PAYOH',\n",
       "       'PUNGGOL WALK', 'SENGKANG WEST WAY', 'BUANGKOK GREEN',\n",
       "       'PUNGGOL WAY', 'YISHUN ST 31', 'TECK WHYE CRES', 'MONTREAL LINK',\n",
       "       'UPP SERANGOON CRES', 'SUMANG LINK', 'SENGKANG EAST AVE',\n",
       "       'YISHUN AVE 1', 'ANCHORVALE CRES', 'ANCHORVALE ST',\n",
       "       'TAMPINES CTRL 8', 'YISHUN ST 51', 'UPP SERANGOON VIEW',\n",
       "       'TAMPINES AVE 1', 'BEDOK RESERVOIR CRES', 'ANG MO KIO ST 61',\n",
       "       'DAWSON RD', 'FERNVALE ST', 'HOUGANG ST 32', 'TAMPINES ST 86',\n",
       "       'SUMANG WALK', 'CHOA CHU KANG AVE 7', 'KEAT HONG CL',\n",
       "       'JURONG WEST CTRL 3', 'KEAT HONG LINK', 'ALJUNIED AVE 2',\n",
       "       'CANBERRA CRES', 'SUMANG LANE', 'CANBERRA ST', 'ANG MO KIO ST 44',\n",
       "       'ANG MO KIO ST 51', 'BT BATOK EAST AVE 6', 'BT BATOK WEST AVE 9',\n",
       "       'CANBERRA WALK', 'WOODLANDS RISE', 'TAMPINES ST 61',\n",
       "       'YISHUN ST 43'], dtype=object)"
      ]
     },
     "execution_count": 48,
     "metadata": {},
     "output_type": "execute_result"
    }
   ],
   "source": [
    "df4['street_name'].unique()"
   ]
  },
  {
   "cell_type": "code",
   "execution_count": 49,
   "id": "090edd73-0512-4564-8257-806a40a31a00",
   "metadata": {},
   "outputs": [],
   "source": [
    "# Create a dictionary to map categories to numeric labels\n",
    "category_mapping_1 = {category: index for index, category in enumerate(df4['street_name'].unique())}\n",
    "\n",
    "# Apply the mapping to the 'Category' column\n",
    "df4['street_name'] = df4['street_name'].map(category_mapping_1)"
   ]
  },
  {
   "cell_type": "code",
   "execution_count": 50,
   "id": "02ee0144-4e92-4ed3-a86e-1d15f6713e80",
   "metadata": {},
   "outputs": [
    {
     "name": "stdout",
     "output_type": "stream",
     "text": [
      "<class 'pandas.core.frame.DataFrame'>\n",
      "RangeIndex: 930273 entries, 0 to 930272\n",
      "Data columns (total 12 columns):\n",
      " #   Column               Non-Null Count   Dtype  \n",
      "---  ------               --------------   -----  \n",
      " 0   town                 930273 non-null  int64  \n",
      " 1   flat_type            930273 non-null  int64  \n",
      " 2   block                930273 non-null  int64  \n",
      " 3   street_name          930273 non-null  int64  \n",
      " 4   storey_range         930273 non-null  int64  \n",
      " 5   floor_area_sqm       930273 non-null  float64\n",
      " 6   flat_model           930273 non-null  int64  \n",
      " 7   lease_commence_date  930273 non-null  int64  \n",
      " 8   resale_price         930273 non-null  float64\n",
      " 9   remaining_lease      930273 non-null  float64\n",
      " 10  Year                 930273 non-null  int32  \n",
      " 11  Month                930273 non-null  int32  \n",
      "dtypes: float64(3), int32(2), int64(7)\n",
      "memory usage: 78.1 MB\n"
     ]
    }
   ],
   "source": [
    "df4.info()"
   ]
  },
  {
   "cell_type": "code",
   "execution_count": 51,
   "id": "2f93d754-7159-4e7a-9ec1-95a104e42499",
   "metadata": {},
   "outputs": [],
   "source": [
    "df5 = df4.copy()"
   ]
  },
  {
   "cell_type": "code",
   "execution_count": 52,
   "id": "e56aa2bd-1a77-44f2-a4f6-f9a621746095",
   "metadata": {},
   "outputs": [
    {
     "name": "stdout",
     "output_type": "stream",
     "text": [
      "<class 'pandas.core.frame.DataFrame'>\n",
      "RangeIndex: 930273 entries, 0 to 930272\n",
      "Data columns (total 12 columns):\n",
      " #   Column               Non-Null Count   Dtype  \n",
      "---  ------               --------------   -----  \n",
      " 0   town                 930273 non-null  int64  \n",
      " 1   flat_type            930273 non-null  int64  \n",
      " 2   block                930273 non-null  int64  \n",
      " 3   street_name          930273 non-null  int64  \n",
      " 4   storey_range         930273 non-null  int64  \n",
      " 5   floor_area_sqm       930273 non-null  float64\n",
      " 6   flat_model           930273 non-null  int64  \n",
      " 7   lease_commence_date  930273 non-null  int64  \n",
      " 8   resale_price         930273 non-null  float64\n",
      " 9   remaining_lease      930273 non-null  float64\n",
      " 10  Year                 930273 non-null  int32  \n",
      " 11  Month                930273 non-null  int32  \n",
      "dtypes: float64(3), int32(2), int64(7)\n",
      "memory usage: 78.1 MB\n"
     ]
    }
   ],
   "source": [
    "df5.info()"
   ]
  },
  {
   "cell_type": "code",
   "execution_count": 53,
   "id": "d8c2b48f-a0a3-4951-942b-447d967145ea",
   "metadata": {},
   "outputs": [],
   "source": [
    "# find outliers - box plot & skewed data - hist plot and violin plot\n",
    "\n",
    "def plot(df, column):\n",
    "    plt.figure(figsize=(20,5))\n",
    "    plt.subplot(1,3,1)\n",
    "    sns.boxplot(data=df, x=column)\n",
    "    plt.title(f'Box Plot for {column}')\n",
    "\n",
    "    plt.subplot(1,3,2)\n",
    "    sns.histplot(data=df, x=column, kde=True, bins=50)\n",
    "    plt.title(f'Distribution Plot for {column}')\n",
    "\n",
    "    plt.subplot(1,3,3)\n",
    "    sns.violinplot(data=df, x=column)\n",
    "    plt.title(f'Violin Plot for {column}')\n",
    "    plt.show()"
   ]
  },
  {
   "cell_type": "code",
   "execution_count": 54,
   "id": "4f765a12-11fe-4df7-94e0-2868f6608469",
   "metadata": {},
   "outputs": [
    {
     "data": {
      "image/png": "[encoded data removed]",
      "text/plain": [
       "<Figure size 2000x500 with 3 Axes>"
      ]
     },
     "metadata": {},
     "output_type": "display_data"
    },
    {
     "data": {
      "image/png": "[encoded data removed]",
      "text/plain": [
       "<Figure size 2000x500 with 3 Axes>"
      ]
     },
     "metadata": {},
     "output_type": "display_data"
    }
   ],
   "source": [
    "for i in ['floor_area_sqm','resale_price']:\n",
    "    plot(df5, i)"
   ]
  },
  {
   "cell_type": "code",
   "execution_count": 55,
   "id": "b29534dd-a1b7-431e-940d-ff0def93d77a",
   "metadata": {},
   "outputs": [],
   "source": [
    "# Using IQR and clip() methods to handle the outliers and add a new column of dataframe\n",
    "\n",
    "def outlier(df, column):\n",
    "    iqr = df[column].quantile(0.75) - df[column].quantile(0.25)\n",
    "    upper_threshold = df[column].quantile(0.75) + (1.5*iqr)\n",
    "    lower_threshold = df[column].quantile(0.25) - (1.5*iqr)\n",
    "    df[column] = df[column].clip(lower_threshold, upper_threshold)\n"
   ]
  },
  {
   "cell_type": "code",
   "execution_count": 56,
   "id": "2f7c8d53-496d-4a18-9be3-5be2c377a22d",
   "metadata": {},
   "outputs": [],
   "source": [
    "outlier(df5,'floor_area_sqm')\n",
    "outlier(df5,'resale_price')"
   ]
  },
  {
   "cell_type": "code",
   "execution_count": 57,
   "id": "88bd8e46-f6dd-4fda-b458-058ee0d2cf06",
   "metadata": {},
   "outputs": [
    {
     "data": {
      "image/png": "[encoded data removed]",
      "text/plain": [
       "<Figure size 2000x500 with 3 Axes>"
      ]
     },
     "metadata": {},
     "output_type": "display_data"
    },
    {
     "data": {
      "image/png": "[encoded data removed]",
      "text/plain": [
       "<Figure size 2000x500 with 3 Axes>"
      ]
     },
     "metadata": {},
     "output_type": "display_data"
    }
   ],
   "source": [
    "for i in ['floor_area_sqm','resale_price']:\n",
    "    plot(df5, i)"
   ]
  },
  {
   "cell_type": "code",
   "execution_count": 58,
   "id": "b8487d68-7048-4ba6-94bd-bc8bb5072a1c",
   "metadata": {},
   "outputs": [
    {
     "data": {
      "text/html": [
       "<div>\n",
       "<style scoped>\n",
       "    .dataframe tbody tr th:only-of-type {\n",
       "        vertical-align: middle;\n",
       "    }\n",
       "\n",
       "    .dataframe tbody tr th {\n",
       "        vertical-align: top;\n",
       "    }\n",
       "\n",
       "    .dataframe thead th {\n",
       "        text-align: right;\n",
       "    }\n",
       "</style>\n",
       "<table border=\"1\" class=\"dataframe\">\n",
       "  <thead>\n",
       "    <tr style=\"text-align: right;\">\n",
       "      <th></th>\n",
       "      <th>town</th>\n",
       "      <th>flat_type</th>\n",
       "      <th>block</th>\n",
       "      <th>street_name</th>\n",
       "      <th>storey_range</th>\n",
       "      <th>floor_area_sqm</th>\n",
       "      <th>flat_model</th>\n",
       "      <th>lease_commence_date</th>\n",
       "      <th>resale_price</th>\n",
       "      <th>remaining_lease</th>\n",
       "      <th>Year</th>\n",
       "      <th>Month</th>\n",
       "    </tr>\n",
       "  </thead>\n",
       "  <tbody>\n",
       "    <tr>\n",
       "      <th>0</th>\n",
       "      <td>0</td>\n",
       "      <td>0</td>\n",
       "      <td>0</td>\n",
       "      <td>0</td>\n",
       "      <td>0</td>\n",
       "      <td>31.0</td>\n",
       "      <td>0</td>\n",
       "      <td>1977</td>\n",
       "      <td>9000.0</td>\n",
       "      <td>52.0</td>\n",
       "      <td>1990</td>\n",
       "      <td>1</td>\n",
       "    </tr>\n",
       "    <tr>\n",
       "      <th>1</th>\n",
       "      <td>0</td>\n",
       "      <td>0</td>\n",
       "      <td>0</td>\n",
       "      <td>0</td>\n",
       "      <td>1</td>\n",
       "      <td>31.0</td>\n",
       "      <td>0</td>\n",
       "      <td>1977</td>\n",
       "      <td>6000.0</td>\n",
       "      <td>52.0</td>\n",
       "      <td>1990</td>\n",
       "      <td>1</td>\n",
       "    </tr>\n",
       "    <tr>\n",
       "      <th>2</th>\n",
       "      <td>0</td>\n",
       "      <td>0</td>\n",
       "      <td>0</td>\n",
       "      <td>0</td>\n",
       "      <td>0</td>\n",
       "      <td>31.0</td>\n",
       "      <td>0</td>\n",
       "      <td>1977</td>\n",
       "      <td>8000.0</td>\n",
       "      <td>52.0</td>\n",
       "      <td>1990</td>\n",
       "      <td>1</td>\n",
       "    </tr>\n",
       "    <tr>\n",
       "      <th>3</th>\n",
       "      <td>0</td>\n",
       "      <td>0</td>\n",
       "      <td>0</td>\n",
       "      <td>0</td>\n",
       "      <td>2</td>\n",
       "      <td>31.0</td>\n",
       "      <td>0</td>\n",
       "      <td>1977</td>\n",
       "      <td>6000.0</td>\n",
       "      <td>52.0</td>\n",
       "      <td>1990</td>\n",
       "      <td>1</td>\n",
       "    </tr>\n",
       "    <tr>\n",
       "      <th>4</th>\n",
       "      <td>0</td>\n",
       "      <td>1</td>\n",
       "      <td>1</td>\n",
       "      <td>0</td>\n",
       "      <td>1</td>\n",
       "      <td>73.0</td>\n",
       "      <td>1</td>\n",
       "      <td>1976</td>\n",
       "      <td>47200.0</td>\n",
       "      <td>51.0</td>\n",
       "      <td>1990</td>\n",
       "      <td>1</td>\n",
       "    </tr>\n",
       "  </tbody>\n",
       "</table>\n",
       "</div>"
      ],
      "text/plain": [
       "   town  flat_type  block  street_name  storey_range  floor_area_sqm  \\\n",
       "0     0          0      0            0             0            31.0   \n",
       "1     0          0      0            0             1            31.0   \n",
       "2     0          0      0            0             0            31.0   \n",
       "3     0          0      0            0             2            31.0   \n",
       "4     0          1      1            0             1            73.0   \n",
       "\n",
       "   flat_model  lease_commence_date  resale_price  remaining_lease  Year  Month  \n",
       "0           0                 1977        9000.0             52.0  1990      1  \n",
       "1           0                 1977        6000.0             52.0  1990      1  \n",
       "2           0                 1977        8000.0             52.0  1990      1  \n",
       "3           0                 1977        6000.0             52.0  1990      1  \n",
       "4           1                 1976       47200.0             51.0  1990      1  "
      ]
     },
     "execution_count": 58,
     "metadata": {},
     "output_type": "execute_result"
    }
   ],
   "source": [
    "df5.head()"
   ]
  },
  {
   "cell_type": "code",
   "execution_count": 94,
   "id": "37e73daa-0c92-44f9-9389-173b634ef589",
   "metadata": {},
   "outputs": [
    {
     "data": {
      "text/plain": [
       "<Axes: >"
      ]
     },
     "execution_count": 94,
     "metadata": {},
     "output_type": "execute_result"
    },
    {
     "data": {
      "image/png": "[encoded data removed]",
      "text/plain": [
       "<Figure size 640x480 with 2 Axes>"
      ]
     },
     "metadata": {},
     "output_type": "display_data"
    }
   ],
   "source": [
    "# Need to verify any columns are highly correlated using Heatmap. If any columns correalaion value >= 0.7 (absolute value), drop the columns.\n",
    "\n",
    "col = ['town','flat_type','block','street_name','storey_range','floor_area_sqm','flat_model','resale_price','remaining_lease']\n",
    "corr_matrix = df5[col].corr()\n",
    "sns.heatmap(corr_matrix, annot=True, cmap='coolwarm')"
   ]
  },
  {
   "cell_type": "code",
   "execution_count": 95,
   "id": "bed3eaed-fa3d-4823-a03e-58eed628cf77",
   "metadata": {},
   "outputs": [
    {
     "name": "stdout",
     "output_type": "stream",
     "text": [
      "Highly Correlated Feature Pairs (correlation > 0.65):\n",
      "[('flat_type', 'floor_area_sqm'), ('block', 'remaining_lease'), ('street_name', 'remaining_lease')]\n"
     ]
    }
   ],
   "source": [
    "# Find features with correlation greater than 0.65\n",
    "high_corr = np.where(corr_matrix > 0.65)\n",
    "high_corr_pairs = [(corr_matrix.index[x], corr_matrix.columns[y]) for x, y in zip(*high_corr) if x != y and x < y]\n",
    "\n",
    "print(\"Highly Correlated Feature Pairs (correlation > 0.65):\")\n",
    "print(high_corr_pairs)"
   ]
  },
  {
   "cell_type": "code",
   "execution_count": 62,
   "id": "13153739-7888-413e-8a76-f0d82a7eb73d",
   "metadata": {},
   "outputs": [
    {
     "name": "stdout",
     "output_type": "stream",
     "text": [
      "\n",
      "DataFrame after removing highly correlated features:\n"
     ]
    },
    {
     "data": {
      "text/html": [
       "<div>\n",
       "<style scoped>\n",
       "    .dataframe tbody tr th:only-of-type {\n",
       "        vertical-align: middle;\n",
       "    }\n",
       "\n",
       "    .dataframe tbody tr th {\n",
       "        vertical-align: top;\n",
       "    }\n",
       "\n",
       "    .dataframe thead th {\n",
       "        text-align: right;\n",
       "    }\n",
       "</style>\n",
       "<table border=\"1\" class=\"dataframe\">\n",
       "  <thead>\n",
       "    <tr style=\"text-align: right;\">\n",
       "      <th></th>\n",
       "      <th>town</th>\n",
       "      <th>storey_range</th>\n",
       "      <th>floor_area_sqm</th>\n",
       "      <th>flat_model</th>\n",
       "      <th>lease_commence_date</th>\n",
       "      <th>resale_price</th>\n",
       "      <th>remaining_lease</th>\n",
       "      <th>Year</th>\n",
       "      <th>Month</th>\n",
       "    </tr>\n",
       "  </thead>\n",
       "  <tbody>\n",
       "    <tr>\n",
       "      <th>0</th>\n",
       "      <td>0</td>\n",
       "      <td>0</td>\n",
       "      <td>31.0</td>\n",
       "      <td>0</td>\n",
       "      <td>1977</td>\n",
       "      <td>9000.0</td>\n",
       "      <td>52.0</td>\n",
       "      <td>1990</td>\n",
       "      <td>1</td>\n",
       "    </tr>\n",
       "    <tr>\n",
       "      <th>1</th>\n",
       "      <td>0</td>\n",
       "      <td>1</td>\n",
       "      <td>31.0</td>\n",
       "      <td>0</td>\n",
       "      <td>1977</td>\n",
       "      <td>6000.0</td>\n",
       "      <td>52.0</td>\n",
       "      <td>1990</td>\n",
       "      <td>1</td>\n",
       "    </tr>\n",
       "    <tr>\n",
       "      <th>2</th>\n",
       "      <td>0</td>\n",
       "      <td>0</td>\n",
       "      <td>31.0</td>\n",
       "      <td>0</td>\n",
       "      <td>1977</td>\n",
       "      <td>8000.0</td>\n",
       "      <td>52.0</td>\n",
       "      <td>1990</td>\n",
       "      <td>1</td>\n",
       "    </tr>\n",
       "    <tr>\n",
       "      <th>3</th>\n",
       "      <td>0</td>\n",
       "      <td>2</td>\n",
       "      <td>31.0</td>\n",
       "      <td>0</td>\n",
       "      <td>1977</td>\n",
       "      <td>6000.0</td>\n",
       "      <td>52.0</td>\n",
       "      <td>1990</td>\n",
       "      <td>1</td>\n",
       "    </tr>\n",
       "    <tr>\n",
       "      <th>4</th>\n",
       "      <td>0</td>\n",
       "      <td>1</td>\n",
       "      <td>73.0</td>\n",
       "      <td>1</td>\n",
       "      <td>1976</td>\n",
       "      <td>47200.0</td>\n",
       "      <td>51.0</td>\n",
       "      <td>1990</td>\n",
       "      <td>1</td>\n",
       "    </tr>\n",
       "    <tr>\n",
       "      <th>...</th>\n",
       "      <td>...</td>\n",
       "      <td>...</td>\n",
       "      <td>...</td>\n",
       "      <td>...</td>\n",
       "      <td>...</td>\n",
       "      <td>...</td>\n",
       "      <td>...</td>\n",
       "      <td>...</td>\n",
       "      <td>...</td>\n",
       "    </tr>\n",
       "    <tr>\n",
       "      <th>930268</th>\n",
       "      <td>21</td>\n",
       "      <td>0</td>\n",
       "      <td>142.0</td>\n",
       "      <td>6</td>\n",
       "      <td>1988</td>\n",
       "      <td>756500.0</td>\n",
       "      <td>63.0</td>\n",
       "      <td>2024</td>\n",
       "      <td>7</td>\n",
       "    </tr>\n",
       "    <tr>\n",
       "      <th>930269</th>\n",
       "      <td>21</td>\n",
       "      <td>2</td>\n",
       "      <td>147.0</td>\n",
       "      <td>6</td>\n",
       "      <td>1987</td>\n",
       "      <td>756500.0</td>\n",
       "      <td>62.0</td>\n",
       "      <td>2024</td>\n",
       "      <td>7</td>\n",
       "    </tr>\n",
       "    <tr>\n",
       "      <th>930270</th>\n",
       "      <td>21</td>\n",
       "      <td>1</td>\n",
       "      <td>146.0</td>\n",
       "      <td>7</td>\n",
       "      <td>1988</td>\n",
       "      <td>756500.0</td>\n",
       "      <td>63.0</td>\n",
       "      <td>2024</td>\n",
       "      <td>7</td>\n",
       "    </tr>\n",
       "    <tr>\n",
       "      <th>930271</th>\n",
       "      <td>21</td>\n",
       "      <td>3</td>\n",
       "      <td>146.0</td>\n",
       "      <td>7</td>\n",
       "      <td>1985</td>\n",
       "      <td>756500.0</td>\n",
       "      <td>60.0</td>\n",
       "      <td>2024</td>\n",
       "      <td>7</td>\n",
       "    </tr>\n",
       "    <tr>\n",
       "      <th>930272</th>\n",
       "      <td>21</td>\n",
       "      <td>1</td>\n",
       "      <td>146.0</td>\n",
       "      <td>7</td>\n",
       "      <td>1985</td>\n",
       "      <td>756500.0</td>\n",
       "      <td>60.0</td>\n",
       "      <td>2024</td>\n",
       "      <td>7</td>\n",
       "    </tr>\n",
       "  </tbody>\n",
       "</table>\n",
       "<p>930273 rows × 9 columns</p>\n",
       "</div>"
      ],
      "text/plain": [
       "        town  storey_range  floor_area_sqm  flat_model  lease_commence_date  \\\n",
       "0          0             0            31.0           0                 1977   \n",
       "1          0             1            31.0           0                 1977   \n",
       "2          0             0            31.0           0                 1977   \n",
       "3          0             2            31.0           0                 1977   \n",
       "4          0             1            73.0           1                 1976   \n",
       "...      ...           ...             ...         ...                  ...   \n",
       "930268    21             0           142.0           6                 1988   \n",
       "930269    21             2           147.0           6                 1987   \n",
       "930270    21             1           146.0           7                 1988   \n",
       "930271    21             3           146.0           7                 1985   \n",
       "930272    21             1           146.0           7                 1985   \n",
       "\n",
       "        resale_price  remaining_lease  Year  Month  \n",
       "0             9000.0             52.0  1990      1  \n",
       "1             6000.0             52.0  1990      1  \n",
       "2             8000.0             52.0  1990      1  \n",
       "3             6000.0             52.0  1990      1  \n",
       "4            47200.0             51.0  1990      1  \n",
       "...              ...              ...   ...    ...  \n",
       "930268      756500.0             63.0  2024      7  \n",
       "930269      756500.0             62.0  2024      7  \n",
       "930270      756500.0             63.0  2024      7  \n",
       "930271      756500.0             60.0  2024      7  \n",
       "930272      756500.0             60.0  2024      7  \n",
       "\n",
       "[930273 rows x 9 columns]"
      ]
     },
     "execution_count": 62,
     "metadata": {},
     "output_type": "execute_result"
    }
   ],
   "source": [
    "# Removing one of the highly correlated features as the flat type depends on floor_area_sqm and street name does not impact the price prediction\n",
    "features_to_remove = set()\n",
    "for pair in high_corr_pairs:\n",
    "    features_to_remove.add(pair[0])  # Remove the first feature in each pair\n",
    "\n",
    "df_reduced = df5.drop(columns=features_to_remove)\n",
    "\n",
    "print(\"\\nDataFrame after removing highly correlated features:\")\n",
    "df_reduced"
   ]
  },
  {
   "cell_type": "code",
   "execution_count": 63,
   "id": "830c7645-b23b-4f0c-b58e-edcc9faae559",
   "metadata": {},
   "outputs": [
    {
     "data": {
      "text/plain": [
       "<Axes: >"
      ]
     },
     "execution_count": 63,
     "metadata": {},
     "output_type": "execute_result"
    },
    {
     "data": {
      "image/png": "[encoded data removed]",
      "text/plain": [
       "<Figure size 640x480 with 2 Axes>"
      ]
     },
     "metadata": {},
     "output_type": "display_data"
    }
   ],
   "source": [
    "# Need to verify any columns are highly correlated using Heatmap. If any columns correalaion value >= 0.7 (absolute value), drop the columns.\n",
    "\n",
    "col = ['town','storey_range','floor_area_sqm','flat_model','resale_price','remaining_lease']\n",
    "corr_matrix = df_reduced[col].corr()\n",
    "sns.heatmap(corr_matrix, annot=True, cmap='coolwarm')"
   ]
  },
  {
   "cell_type": "code",
   "execution_count": 64,
   "id": "2bf20fa7-15dc-4def-a04f-a0a73bc2b08c",
   "metadata": {},
   "outputs": [],
   "source": [
    "df6 = df_reduced.copy()"
   ]
  },
  {
   "cell_type": "code",
   "execution_count": 65,
   "id": "59897506-6874-4b88-be05-d4f1f30b4e75",
   "metadata": {},
   "outputs": [],
   "source": [
    "from sklearn.preprocessing import OrdinalEncoder\n",
    "from sklearn.model_selection import train_test_split, GridSearchCV\n",
    "from sklearn.metrics import mean_absolute_error, mean_squared_error, r2_score\n",
    "from sklearn.tree import DecisionTreeRegressor\n",
    "from sklearn.ensemble import ExtraTreesRegressor\n",
    "from sklearn.ensemble import RandomForestRegressor\n",
    "from sklearn.ensemble import AdaBoostRegressor\n",
    "from sklearn.ensemble import GradientBoostingRegressor\n",
    "from xgboost import XGBRegressor\n",
    "import pickle\n",
    "from sklearn import metrics"
   ]
  },
  {
   "cell_type": "code",
   "execution_count": 66,
   "id": "59f1fc74-cd70-4622-9ace-8e00f83da6d5",
   "metadata": {},
   "outputs": [
    {
     "data": {
      "text/plain": [
       "Index(['town', 'storey_range', 'floor_area_sqm', 'flat_model',\n",
       "       'lease_commence_date', 'resale_price', 'remaining_lease', 'Year',\n",
       "       'Month'],\n",
       "      dtype='object')"
      ]
     },
     "execution_count": 66,
     "metadata": {},
     "output_type": "execute_result"
    }
   ],
   "source": [
    "df6.columns"
   ]
  },
  {
   "cell_type": "code",
   "execution_count": 67,
   "id": "035598fb-9fe8-4870-bbed-91f10570b798",
   "metadata": {},
   "outputs": [],
   "source": [
    "# check the train and test accuracy using R2 (R-squared ---> coefficient of determination) to predict selling price\n",
    "\n",
    "def machine_learning_regression(df, algorithm):\n",
    "\n",
    "    X = df.drop(columns=['resale_price'], axis=1)\n",
    "    y = df['resale_price']\n",
    "    X_train, X_test, y_train, y_test = train_test_split(X,y,test_size=0.2,random_state=42)\n",
    "\n",
    "    model = algorithm().fit(X_train, y_train)\n",
    "    y_pred_train = model.predict(X_train)\n",
    "    y_pred_test = model.predict(X_test)\n",
    "    r2_train = r2_score(y_train, y_pred_train)\n",
    "    r2_test = r2_score(y_test, y_pred_test)\n",
    "\n",
    "    # algo = str(algorithm).split(\"'\")[1].split(\".\")[-1]\n",
    "    accuracy_metrics = {'algorithm': algorithm.__name__,\n",
    "                        'R2_train' : r2_train,\n",
    "                        'R2_test'  : r2_test}\n",
    "\n",
    "    return accuracy_metrics"
   ]
  },
  {
   "cell_type": "code",
   "execution_count": 68,
   "id": "23da2347-d1fe-49cf-8911-e55b41ddeb4c",
   "metadata": {},
   "outputs": [
    {
     "name": "stdout",
     "output_type": "stream",
     "text": [
      "{'algorithm': 'DecisionTreeRegressor', 'R2_train': 0.9982689739043841, 'R2_test': 0.9649753538787265}\n",
      "{'algorithm': 'ExtraTreesRegressor', 'R2_train': 0.9982686865928693, 'R2_test': 0.9769873921880046}\n",
      "{'algorithm': 'RandomForestRegressor', 'R2_train': 0.9959098846494036, 'R2_test': 0.9790691771014749}\n",
      "{'algorithm': 'AdaBoostRegressor', 'R2_train': 0.7319232920781112, 'R2_test': 0.731152306962693}\n",
      "{'algorithm': 'GradientBoostingRegressor', 'R2_train': 0.9222966634069666, 'R2_test': 0.9215269467512369}\n",
      "{'algorithm': 'XGBRegressor', 'R2_train': 0.9749186004043311, 'R2_test': 0.9743645225349986}\n"
     ]
    }
   ],
   "source": [
    "print(machine_learning_regression(df6, DecisionTreeRegressor))\n",
    "print(machine_learning_regression(df6, ExtraTreesRegressor))\n",
    "print(machine_learning_regression(df6, RandomForestRegressor))\n",
    "print(machine_learning_regression(df6, AdaBoostRegressor))\n",
    "print(machine_learning_regression(df6, GradientBoostingRegressor))\n",
    "print(machine_learning_regression(df6, XGBRegressor))"
   ]
  },
  {
   "cell_type": "code",
   "execution_count": 69,
   "id": "bd40d7da-88fd-4c43-bc92-3c6f60934e9b",
   "metadata": {},
   "outputs": [],
   "source": [
    "#selecting randomforest regressor"
   ]
  },
  {
   "cell_type": "code",
   "execution_count": null,
   "id": "7b3077d2-1939-4d2a-89eb-b95819b495b1",
   "metadata": {},
   "outputs": [],
   "source": [
    "X = df6.drop(columns=['resale_price'], axis=1)\n",
    "y = df6['resale_price']\n",
    "X_train, X_test, y_train, y_test = train_test_split(X,y,test_size=0.2,random_state=42)\n",
    "\n",
    "param_grid_r = {'max_depth'      : [2, 5, 10, 20],\n",
    "              'min_samples_split': [2, 5, 10],\n",
    "              'min_samples_leaf' : [1, 2, 4],\n",
    "              'max_features'     : ['sqrt', 'log2', None]}\n",
    "\n",
    "grid_search_r = GridSearchCV(estimator=RandomForestRegressor(), param_grid=param_grid_r, cv=5, n_jobs=-1)\n",
    "grid_search_r.fit(X_train, y_train)"
   ]
  },
  {
   "cell_type": "code",
   "execution_count": 88,
   "id": "898cd52b-8d3d-4820-a1e6-232be25a3fc7",
   "metadata": {},
   "outputs": [
    {
     "data": {
      "text/plain": [
       "(0.9890390024461574, 0.9792134794530623)"
      ]
     },
     "execution_count": 88,
     "metadata": {},
     "output_type": "execute_result"
    }
   ],
   "source": [
    "# pass the parameters and check the accuracy for both training and testing & overfitting\n",
    "\n",
    "X = df6.drop(columns=['resale_price'], axis=1)\n",
    "y = df6['resale_price']\n",
    "X_train, X_test, y_train, y_test = train_test_split(X,y,test_size=0.2,random_state=42)\n",
    "\n",
    "model_1 = RandomForestRegressor(max_depth=20, max_features=None, min_samples_leaf=1, min_samples_split=2).fit(X_train, y_train)\n",
    "y_pred_train = model_1.predict(X_train)\n",
    "y_pred_test = model_1.predict(X_test)\n",
    "\n",
    "r2_train = r2_score(y_train, y_pred_train)\n",
    "r2_test = r2_score(y_test, y_pred_test)\n",
    "r2_train, r2_test"
   ]
  },
  {
   "cell_type": "code",
   "execution_count": 89,
   "id": "51bf6f40-6806-4c29-8a23-dfe5813b7efb",
   "metadata": {},
   "outputs": [
    {
     "data": {
      "text/plain": [
       "{'R2': 0.9792372642645125,\n",
       " 'Mean Absolute Error': 16340.568615042339,\n",
       " 'Mean Squared Error': 557501321.5347052,\n",
       " 'Root Mean Squared Error': 23611.465891272088}"
      ]
     },
     "execution_count": 89,
     "metadata": {},
     "output_type": "execute_result"
    }
   ],
   "source": [
    "# predict the selling price with hypertuning parameters and calculate the accuracy using metrics\n",
    "\n",
    "X = df6.drop(columns=['resale_price'], axis=1)\n",
    "y = df6['resale_price']\n",
    "X_train, X_test, y_train, y_test = train_test_split(X,y,test_size=0.2,random_state=42)\n",
    "\n",
    "model_1 = RandomForestRegressor(max_depth=20, max_features=None, min_samples_leaf=1, min_samples_split=2).fit(X_train, y_train)\n",
    "y_pred = model_1.predict(X_test)\n",
    "\n",
    "mse = mean_squared_error(y_test, y_pred)\n",
    "rmse = np.sqrt(mse)\n",
    "r2 = r2_score(y_test, y_pred)\n",
    "mae = mean_absolute_error(y_test, y_pred)\n",
    "\n",
    "metrics_r = {'R2': r2,\n",
    "           'Mean Absolute Error': mae,\n",
    "           'Mean Squared Error': mse,\n",
    "           'Root Mean Squared Error': rmse}\n",
    "\n",
    "metrics_r"
   ]
  },
  {
   "cell_type": "code",
   "execution_count": 90,
   "id": "a13a3372-64e9-449d-8cde-7f51b7daec7e",
   "metadata": {},
   "outputs": [
    {
     "name": "stderr",
     "output_type": "stream",
     "text": [
      "C:\\Users\\91916\\AppData\\Local\\Programs\\Python\\Python310\\lib\\site-packages\\sklearn\\base.py:493: UserWarning: X does not have valid feature names, but RandomForestRegressor was fitted with feature names\n",
      "  warnings.warn(\n"
     ]
    },
    {
     "data": {
      "text/plain": [
       "7348.5"
      ]
     },
     "execution_count": 90,
     "metadata": {},
     "output_type": "execute_result"
    }
   ],
   "source": [
    "# manually passed the user input and predict the selling price\n",
    "\n",
    "user_data = np.array([[0,0,31.0,0,1977,52.0,1990,1]])\n",
    "y_pred = model_1.predict(user_data)\n",
    "y_pred[0]"
   ]
  },
  {
   "cell_type": "code",
   "execution_count": 91,
   "id": "0ec6dedf-581d-49ee-805a-a58baf5bfe33",
   "metadata": {},
   "outputs": [],
   "source": [
    "# save the regression model by using pickle\n",
    "\n",
    "with open('singapore_resale_price_regression_model.pkl', 'wb') as g:\n",
    "    pickle.dump(model_1, g)"
   ]
  },
  {
   "cell_type": "code",
   "execution_count": 92,
   "id": "ec292294-fc56-45a6-a446-13eca0caa966",
   "metadata": {},
   "outputs": [
    {
     "name": "stderr",
     "output_type": "stream",
     "text": [
      "C:\\Users\\91916\\AppData\\Local\\Programs\\Python\\Python310\\lib\\site-packages\\sklearn\\base.py:493: UserWarning: X does not have valid feature names, but RandomForestRegressor was fitted with feature names\n",
      "  warnings.warn(\n"
     ]
    },
    {
     "data": {
      "text/plain": [
       "7348.5"
      ]
     },
     "execution_count": 92,
     "metadata": {},
     "output_type": "execute_result"
    }
   ],
   "source": [
    "# load the pickle model to predict selling price\n",
    "\n",
    "with open(r'C:\\Users\\91916\\GUVI_DS\\singapore_resale_price_regression_model.pkl', 'rb') as g:\n",
    "    model_1 = pickle.load(g)\n",
    "\n",
    "y_pred = model_1.predict(np.array([[0,0,31.0,0,1977,52.0,1990,1]]))\n",
    "y_pred[0]"
   ]
  },
  {
   "cell_type": "code",
   "execution_count": null,
   "id": "b6cd6c0e-d0af-494d-940f-554cbd435dcc",
   "metadata": {},
   "outputs": [],
   "source": []
  }
 ],
 "metadata": {
  "kernelspec": {
   "display_name": "Python 3 (ipykernel)",
   "language": "python",
   "name": "python3"
  },
  "language_info": {
   "codemirror_mode": {
    "name": "ipython",
    "version": 3
   },
   "file_extension": ".py",
   "mimetype": "text/x-python",
   "name": "python",
   "nbconvert_exporter": "python",
   "pygments_lexer": "ipython3",
   "version": "3.10.11"
  }
 },
 "nbformat": 4,
 "nbformat_minor": 5
}
